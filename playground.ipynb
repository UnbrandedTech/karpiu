{
 "cells": [
  {
   "cell_type": "markdown",
   "id": "446e8adf-6bc9-4132-a1ba-501ae0b99fb9",
   "metadata": {},
   "source": [
    "# Playground for initial test"
   ]
  },
  {
   "cell_type": "code",
   "execution_count": null,
   "id": "3598e0c2-78bb-4018-bb6d-f22634ad1091",
   "metadata": {},
   "outputs": [],
   "source": []
  }
 ],
 "metadata": {
  "kernelspec": {
   "display_name": "karpiu",
   "language": "python",
   "name": "karpiu"
  },
  "language_info": {
   "codemirror_mode": {
    "name": "ipython",
    "version": 3
   },
   "file_extension": ".py",
   "mimetype": "text/x-python",
   "name": "python",
   "nbconvert_exporter": "python",
   "pygments_lexer": "ipython3",
   "version": "3.9.12"
  }
 },
 "nbformat": 4,
 "nbformat_minor": 5
}
