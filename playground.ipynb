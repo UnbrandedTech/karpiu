{
 "cells": [
  {
   "cell_type": "markdown",
   "id": "446e8adf-6bc9-4132-a1ba-501ae0b99fb9",
   "metadata": {},
   "source": [
    "# Playground for initial test"
   ]
  },
  {
   "cell_type": "code",
   "execution_count": 27,
   "id": "3598e0c2-78bb-4018-bb6d-f22634ad1091",
   "metadata": {},
   "outputs": [],
   "source": [
    "import pandas as pd\n",
    "import numpy as np\n",
    "\n",
    "from karpiu.simulation import make_trend, make_seasonality, make_regression"
   ]
  },
  {
   "cell_type": "code",
   "execution_count": 20,
   "id": "9a093514-efba-436e-b97d-6899132e0855",
   "metadata": {},
   "outputs": [
    {
     "name": "stdout",
     "output_type": "stream",
     "text": [
      "The autoreload extension is already loaded. To reload it, use:\n",
      "  %reload_ext autoreload\n"
     ]
    }
   ],
   "source": [
    "%load_ext autoreload\n",
    "%autoreload 2"
   ]
  },
  {
   "cell_type": "code",
   "execution_count": 31,
   "id": "b90486ae-f025-470f-b390-dabccfcc6b32",
   "metadata": {},
   "outputs": [],
   "source": [
    "N_STEPS = 365 * 3\n",
    "COEFS = [0.1, 0.05, 0.08, 0.01, 0.03]\n",
    "CHANNELS = ['tv', 'radio', 'social', 'promo', 'search'] \n",
    "y = make_trend(n_steps=N_STEPS) + make_seasonality(n_steps=N_STEPS, seasonality=365.25)\n",
    "x, y, coefs = make_regression(n_steps=N_STEPS, coefs=COEFS)"
   ]
  },
  {
   "cell_type": "code",
   "execution_count": 32,
   "id": "6ce4ef2a-468c-4ff4-9588-2dceeb2a7cd1",
   "metadata": {},
   "outputs": [
    {
     "name": "stdout",
     "output_type": "stream",
     "text": [
      "(1095, 5) (1095,)\n"
     ]
    }
   ],
   "source": [
    "print(x.shape, y.shape)"
   ]
  },
  {
   "cell_type": "code",
   "execution_count": 35,
   "id": "c50db9ea-02e4-4ae6-8a44-a7180ec32ed3",
   "metadata": {},
   "outputs": [],
   "source": [
    "data = pd.DataFrame(np.exp(x), columns=CHANNELS)\n",
    "data['sales'] = np.exp(y)"
   ]
  },
  {
   "cell_type": "code",
   "execution_count": 36,
   "id": "9e44b254-35a3-4299-8467-0691f3250260",
   "metadata": {},
   "outputs": [
    {
     "data": {
      "text/html": [
       "<div>\n",
       "<style scoped>\n",
       "    .dataframe tbody tr th:only-of-type {\n",
       "        vertical-align: middle;\n",
       "    }\n",
       "\n",
       "    .dataframe tbody tr th {\n",
       "        vertical-align: top;\n",
       "    }\n",
       "\n",
       "    .dataframe thead th {\n",
       "        text-align: right;\n",
       "    }\n",
       "</style>\n",
       "<table border=\"1\" class=\"dataframe\">\n",
       "  <thead>\n",
       "    <tr style=\"text-align: right;\">\n",
       "      <th></th>\n",
       "      <th>tv</th>\n",
       "      <th>radio</th>\n",
       "      <th>social</th>\n",
       "      <th>promo</th>\n",
       "      <th>search</th>\n",
       "      <th>sales</th>\n",
       "    </tr>\n",
       "  </thead>\n",
       "  <tbody>\n",
       "    <tr>\n",
       "      <th>0</th>\n",
       "      <td>3.812205</td>\n",
       "      <td>0.656129</td>\n",
       "      <td>2.826644</td>\n",
       "      <td>0.465879</td>\n",
       "      <td>1.219071</td>\n",
       "      <td>17.647564</td>\n",
       "    </tr>\n",
       "    <tr>\n",
       "      <th>1</th>\n",
       "      <td>0.953179</td>\n",
       "      <td>0.290049</td>\n",
       "      <td>0.832284</td>\n",
       "      <td>1.344648</td>\n",
       "      <td>1.000000</td>\n",
       "      <td>0.398041</td>\n",
       "    </tr>\n",
       "    <tr>\n",
       "      <th>2</th>\n",
       "      <td>1.000000</td>\n",
       "      <td>1.040232</td>\n",
       "      <td>1.340202</td>\n",
       "      <td>2.302184</td>\n",
       "      <td>0.565273</td>\n",
       "      <td>8.123841</td>\n",
       "    </tr>\n",
       "    <tr>\n",
       "      <th>3</th>\n",
       "      <td>1.000000</td>\n",
       "      <td>1.000000</td>\n",
       "      <td>1.665268</td>\n",
       "      <td>1.000000</td>\n",
       "      <td>1.000000</td>\n",
       "      <td>0.226081</td>\n",
       "    </tr>\n",
       "    <tr>\n",
       "      <th>4</th>\n",
       "      <td>2.753408</td>\n",
       "      <td>1.504222</td>\n",
       "      <td>1.000000</td>\n",
       "      <td>1.091297</td>\n",
       "      <td>0.695539</td>\n",
       "      <td>1.661728</td>\n",
       "    </tr>\n",
       "    <tr>\n",
       "      <th>...</th>\n",
       "      <td>...</td>\n",
       "      <td>...</td>\n",
       "      <td>...</td>\n",
       "      <td>...</td>\n",
       "      <td>...</td>\n",
       "      <td>...</td>\n",
       "    </tr>\n",
       "    <tr>\n",
       "      <th>1090</th>\n",
       "      <td>0.631063</td>\n",
       "      <td>1.979917</td>\n",
       "      <td>0.971578</td>\n",
       "      <td>1.110496</td>\n",
       "      <td>0.911486</td>\n",
       "      <td>4.040113</td>\n",
       "    </tr>\n",
       "    <tr>\n",
       "      <th>1091</th>\n",
       "      <td>0.865164</td>\n",
       "      <td>1.142296</td>\n",
       "      <td>1.092745</td>\n",
       "      <td>1.245725</td>\n",
       "      <td>0.825273</td>\n",
       "      <td>0.425460</td>\n",
       "    </tr>\n",
       "    <tr>\n",
       "      <th>1092</th>\n",
       "      <td>1.000000</td>\n",
       "      <td>1.896903</td>\n",
       "      <td>0.522009</td>\n",
       "      <td>0.739137</td>\n",
       "      <td>1.743677</td>\n",
       "      <td>1.184417</td>\n",
       "    </tr>\n",
       "    <tr>\n",
       "      <th>1093</th>\n",
       "      <td>1.000000</td>\n",
       "      <td>1.160714</td>\n",
       "      <td>0.625932</td>\n",
       "      <td>1.587960</td>\n",
       "      <td>0.829222</td>\n",
       "      <td>0.609450</td>\n",
       "    </tr>\n",
       "    <tr>\n",
       "      <th>1094</th>\n",
       "      <td>0.611154</td>\n",
       "      <td>1.000000</td>\n",
       "      <td>1.414034</td>\n",
       "      <td>1.022785</td>\n",
       "      <td>1.000000</td>\n",
       "      <td>0.382784</td>\n",
       "    </tr>\n",
       "  </tbody>\n",
       "</table>\n",
       "<p>1095 rows × 6 columns</p>\n",
       "</div>"
      ],
      "text/plain": [
       "            tv     radio    social     promo    search      sales\n",
       "0     3.812205  0.656129  2.826644  0.465879  1.219071  17.647564\n",
       "1     0.953179  0.290049  0.832284  1.344648  1.000000   0.398041\n",
       "2     1.000000  1.040232  1.340202  2.302184  0.565273   8.123841\n",
       "3     1.000000  1.000000  1.665268  1.000000  1.000000   0.226081\n",
       "4     2.753408  1.504222  1.000000  1.091297  0.695539   1.661728\n",
       "...        ...       ...       ...       ...       ...        ...\n",
       "1090  0.631063  1.979917  0.971578  1.110496  0.911486   4.040113\n",
       "1091  0.865164  1.142296  1.092745  1.245725  0.825273   0.425460\n",
       "1092  1.000000  1.896903  0.522009  0.739137  1.743677   1.184417\n",
       "1093  1.000000  1.160714  0.625932  1.587960  0.829222   0.609450\n",
       "1094  0.611154  1.000000  1.414034  1.022785  1.000000   0.382784\n",
       "\n",
       "[1095 rows x 6 columns]"
      ]
     },
     "execution_count": 36,
     "metadata": {},
     "output_type": "execute_result"
    }
   ],
   "source": [
    "data"
   ]
  }
 ],
 "metadata": {
  "kernelspec": {
   "display_name": "karpiu",
   "language": "python",
   "name": "karpiu"
  },
  "language_info": {
   "codemirror_mode": {
    "name": "ipython",
    "version": 3
   },
   "file_extension": ".py",
   "mimetype": "text/x-python",
   "name": "python",
   "nbconvert_exporter": "python",
   "pygments_lexer": "ipython3",
   "version": "3.9.12"
  }
 },
 "nbformat": 4,
 "nbformat_minor": 5
}
