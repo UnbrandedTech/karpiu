{
 "cells": [
  {
   "cell_type": "markdown",
   "metadata": {},
   "source": [
    "## Optimization"
   ]
  },
  {
   "cell_type": "markdown",
   "metadata": {},
   "source": [
    "This section covers some budget optimization strategy by leveraging a fitted MMM."
   ]
  },
  {
   "cell_type": "code",
   "execution_count": 1,
   "metadata": {},
   "outputs": [],
   "source": [
    "import numpy as np\n",
    "import pandas as pd\n",
    "import math\n",
    "import matplotlib.pyplot as plt\n",
    "import pickle\n",
    "\n",
    "from karpiu.planning import TargetMaximizer, calculate_marginal_cost\n",
    "from karpiu.explainability import Attributor\n",
    "\n",
    "pd.set_option('display.float_format', lambda x: '%.5f' % x)\n",
    "np.set_printoptions(suppress=True)\n",
    "pd.set_option('display.max_rows', 50)"
   ]
  },
  {
   "cell_type": "code",
   "execution_count": 2,
   "metadata": {},
   "outputs": [],
   "source": [
    "%load_ext autoreload\n",
    "%autoreload 2"
   ]
  },
  {
   "cell_type": "markdown",
   "metadata": {},
   "source": [
    "Bring back the fitted model from previous `Quickstart` section."
   ]
  },
  {
   "cell_type": "code",
   "execution_count": 3,
   "metadata": {},
   "outputs": [],
   "source": [
    "with open ('./resource/model.pkl', 'rb') as f:\n",
    "    mmm = pickle.load(f)"
   ]
  },
  {
   "cell_type": "code",
   "execution_count": 4,
   "metadata": {},
   "outputs": [],
   "source": [
    "budget_start = pd.to_datetime('2021-01-01')\n",
    "budget_end = pd.to_datetime('2021-01-31')\n",
    "optim_channels = mmm.get_spend_cols()\n",
    "# to be safe in beta version, use sorted list of channels\n",
    "optim_channels.sort()\n",
    "\n",
    "spend_scaler = 1e3\n",
    "response_scaler = 1e1"
   ]
  },
  {
   "cell_type": "code",
   "execution_count": 5,
   "metadata": {},
   "outputs": [],
   "source": [
    "# steal this code to get all the matrices in the background\n",
    "# and also report average cost of acq\n",
    "attr_obj = Attributor(mmm, attr_regressors=optim_channels, start=budget_start, end=budget_end)\n",
    "activities_attr_df, spend_attr_df, spend_df, cost_df = attr_obj.make_attribution()\n",
    "tot_attr_df = spend_attr_df[optim_channels].apply(np.sum, axis=0)\n",
    "tot_spend_df = spend_df[optim_channels].apply(np.sum, axis=0)\n",
    "avg_cost_df = tot_spend_df / tot_attr_df\n",
    "avg_cost_df = pd.DataFrame(avg_cost_df)\n",
    "avg_cost_df.index = avg_cost_df.index.rename(\"regressor\")\n",
    "avg_cost_df = avg_cost_df.rename(columns={0: \"cac\"})\n",
    "\n",
    "# more data massage\n",
    "# 1e4 is a fixed constant to reduce over-float of spend\n",
    "# not that they need to be consistent with the subsequent calculation of \n",
    "# post optimization metrics\n",
    "tot_spend_df = tot_spend_df / spend_scaler\n",
    "tot_spend_df = pd.DataFrame(tot_spend_df)\n",
    "tot_spend_df.index = tot_spend_df.index.rename(\"regressor\")\n",
    "tot_spend_df = tot_spend_df.rename(columns={0: \"pre_opt_spend\"})"
   ]
  },
  {
   "cell_type": "code",
   "execution_count": 6,
   "metadata": {},
   "outputs": [],
   "source": [
    "mcac_df = calculate_marginal_cost(\n",
    "    mmm,\n",
    "    channels=optim_channels, \n",
    "    spend_start=budget_start, \n",
    "    spend_end=budget_end, \n",
    ")"
   ]
  },
  {
   "cell_type": "code",
   "execution_count": 7,
   "metadata": {},
   "outputs": [
    {
     "data": {
      "text/html": [
       "<div>\n",
       "<style scoped>\n",
       "    .dataframe tbody tr th:only-of-type {\n",
       "        vertical-align: middle;\n",
       "    }\n",
       "\n",
       "    .dataframe tbody tr th {\n",
       "        vertical-align: top;\n",
       "    }\n",
       "\n",
       "    .dataframe thead th {\n",
       "        text-align: right;\n",
       "    }\n",
       "</style>\n",
       "<table border=\"1\" class=\"dataframe\">\n",
       "  <thead>\n",
       "    <tr style=\"text-align: right;\">\n",
       "      <th></th>\n",
       "      <th>pre-opt-cac</th>\n",
       "      <th>pre-opt-mcac</th>\n",
       "      <th>pre-opt-spend</th>\n",
       "    </tr>\n",
       "    <tr>\n",
       "      <th>regressor</th>\n",
       "      <th></th>\n",
       "      <th></th>\n",
       "      <th></th>\n",
       "    </tr>\n",
       "  </thead>\n",
       "  <tbody>\n",
       "    <tr>\n",
       "      <th>promo</th>\n",
       "      <td>39.85150</td>\n",
       "      <td>51.75797</td>\n",
       "      <td>41.01600</td>\n",
       "    </tr>\n",
       "    <tr>\n",
       "      <th>radio</th>\n",
       "      <td>63.41924</td>\n",
       "      <td>85.70248</td>\n",
       "      <td>131.89400</td>\n",
       "    </tr>\n",
       "    <tr>\n",
       "      <th>search</th>\n",
       "      <td>57.88063</td>\n",
       "      <td>50.24106</td>\n",
       "      <td>17.77200</td>\n",
       "    </tr>\n",
       "    <tr>\n",
       "      <th>social</th>\n",
       "      <td>52.19144</td>\n",
       "      <td>70.36769</td>\n",
       "      <td>81.93300</td>\n",
       "    </tr>\n",
       "    <tr>\n",
       "      <th>tv</th>\n",
       "      <td>159.76884</td>\n",
       "      <td>205.03113</td>\n",
       "      <td>225.00900</td>\n",
       "    </tr>\n",
       "  </tbody>\n",
       "</table>\n",
       "</div>"
      ],
      "text/plain": [
       "           pre-opt-cac  pre-opt-mcac  pre-opt-spend\n",
       "regressor                                          \n",
       "promo         39.85150      51.75797       41.01600\n",
       "radio         63.41924      85.70248      131.89400\n",
       "search        57.88063      50.24106       17.77200\n",
       "social        52.19144      70.36769       81.93300\n",
       "tv           159.76884     205.03113      225.00900"
      ]
     },
     "execution_count": 7,
     "metadata": {},
     "output_type": "execute_result"
    }
   ],
   "source": [
    "pre_opt_report = pd.concat([avg_cost_df, mcac_df, tot_spend_df], axis=1, keys='regressor')\n",
    "pre_opt_report.columns = ['pre-opt-cac', 'pre-opt-mcac', 'pre-opt-spend']\n",
    "pre_opt_report"
   ]
  },
  {
   "cell_type": "code",
   "execution_count": 8,
   "metadata": {},
   "outputs": [
    {
     "name": "stderr",
     "output_type": "stream",
     "text": [
      "INFO:karpiu-planning:Optimizing channels is sorted. They are now : ['promo', 'radio', 'search', 'social', 'tv']\n"
     ]
    },
    {
     "name": "stdout",
     "output_type": "stream",
     "text": [
      "Optimization terminated successfully    (Exit mode 0)\n",
      "            Current function value: -3082.5371058671344\n",
      "            Iterations: 81\n",
      "            Function evaluations: 12747\n",
      "            Gradient evaluations: 81\n"
     ]
    }
   ],
   "source": [
    "maximizer = TargetMaximizer(\n",
    "    model=mmm,\n",
    "    budget_start=budget_start,\n",
    "    budget_end=budget_end,\n",
    "    optim_channel=optim_channels, \n",
    ")\n",
    "optim_spend_df = maximizer.optimize(maxiter=1000, eps=1e-3)"
   ]
  },
  {
   "cell_type": "code",
   "execution_count": 9,
   "metadata": {},
   "outputs": [],
   "source": [
    "optim_spend_matrix = maximizer.get_current_state()\n",
    "init_spend_matrix = maximizer.get_init_state()"
   ]
  },
  {
   "cell_type": "code",
   "execution_count": 10,
   "metadata": {},
   "outputs": [
    {
     "name": "stdout",
     "output_type": "stream",
     "text": [
      "Suggested total spend: 497624\n",
      "Total Budget: 497624\n"
     ]
    }
   ],
   "source": [
    "# total spend suggest\n",
    "print(\"Suggested total spend: {:.0f}\".format(optim_spend_matrix.sum()))\n",
    "# total budget\n",
    "print(\"Total Budget: {:.0f}\".format(np.sum(init_spend_matrix)))"
   ]
  },
  {
   "cell_type": "code",
   "execution_count": 11,
   "metadata": {},
   "outputs": [
    {
     "data": {
      "image/png": "[encoded data removed]",
      "text/plain": [
       "<Figure size 1440x720 with 1 Axes>"
      ]
     },
     "metadata": {
      "needs_background": "light"
     },
     "output_type": "display_data"
    }
   ],
   "source": [
    "init_total_spend = np.sum(init_spend_matrix, 0)\n",
    "optim_total_spend = np.sum(optim_spend_matrix, 0)\n",
    "plot_data = np.vstack([init_total_spend, optim_total_spend])\n",
    "plot_data.shape\n",
    "\n",
    "fig, ax = plt.subplots(1, 1, figsize=(20, 10))\n",
    "bottom = 0.0\n",
    "for idx, label in enumerate(optim_channels):\n",
    "    ax.bar(x=['Pre', 'Post'], height=plot_data[:, idx], bottom=bottom, label=label)\n",
    "    bottom += plot_data[:, idx]\n",
    "# ax.set_title(\"Spend Allocation Pre vs. Post Optimization\")\n",
    "ax.legend(loc='lower center',  bbox_to_anchor=(0.5, -0.10), ncol=math.ceil(len(optim_channels)/2));"
   ]
  },
  {
   "cell_type": "code",
   "execution_count": 12,
   "metadata": {},
   "outputs": [],
   "source": [
    "post_mcac_df = calculate_marginal_cost(\n",
    "    mmm,\n",
    "    channels=mmm.get_spend_cols(), \n",
    "    spend_start=budget_start, \n",
    "    spend_end=budget_end, \n",
    "    spend_df=optim_spend_df,\n",
    ")"
   ]
  },
  {
   "cell_type": "code",
   "execution_count": 13,
   "metadata": {},
   "outputs": [],
   "source": [
    "attr_obj = Attributor(mmm, df=optim_spend_df, attr_regressors=optim_channels, start=budget_start, end=budget_end)\n",
    "activities_attr_df, spend_attr_df, spend_df, cost_df = attr_obj.make_attribution()\n",
    "optim_tot_attr_df = spend_attr_df[optim_channels].apply(np.sum, axis=0)\n",
    "optim_tot_spend_df = spend_df[optim_channels].apply(np.sum, axis=0)\n",
    "post_avg_cost_df = optim_tot_spend_df / optim_tot_attr_df\n",
    "post_avg_cost_df = pd.DataFrame(post_avg_cost_df)\n",
    "post_avg_cost_df = post_avg_cost_df.rename(columns={0: \"post-opt-cac\"})\n",
    "\n",
    "# more data massage\n",
    "optim_tot_spend_df = optim_tot_spend_df / spend_scaler\n",
    "optim_tot_spend_df = pd.DataFrame(optim_tot_spend_df)\n",
    "optim_tot_spend_df.index = optim_tot_spend_df.index.rename(\"regressor\")\n",
    "optim_tot_spend_df = optim_tot_spend_df.rename(columns={0: \"post-opt-spend\"})"
   ]
  },
  {
   "cell_type": "code",
   "execution_count": 14,
   "metadata": {},
   "outputs": [
    {
     "data": {
      "text/html": [
       "<div>\n",
       "<style scoped>\n",
       "    .dataframe tbody tr th:only-of-type {\n",
       "        vertical-align: middle;\n",
       "    }\n",
       "\n",
       "    .dataframe tbody tr th {\n",
       "        vertical-align: top;\n",
       "    }\n",
       "\n",
       "    .dataframe thead th {\n",
       "        text-align: right;\n",
       "    }\n",
       "</style>\n",
       "<table border=\"1\" class=\"dataframe\">\n",
       "  <thead>\n",
       "    <tr style=\"text-align: right;\">\n",
       "      <th></th>\n",
       "      <th>post-opt-cac</th>\n",
       "      <th>post-opt-mcac</th>\n",
       "      <th>post-opt-spend</th>\n",
       "    </tr>\n",
       "  </thead>\n",
       "  <tbody>\n",
       "    <tr>\n",
       "      <th>promo</th>\n",
       "      <td>62.86873</td>\n",
       "      <td>104.22242</td>\n",
       "      <td>117.53211</td>\n",
       "    </tr>\n",
       "    <tr>\n",
       "      <th>radio</th>\n",
       "      <td>72.32310</td>\n",
       "      <td>104.26164</td>\n",
       "      <td>172.16153</td>\n",
       "    </tr>\n",
       "    <tr>\n",
       "      <th>search</th>\n",
       "      <td>49.07932</td>\n",
       "      <td>103.84905</td>\n",
       "      <td>26.63278</td>\n",
       "    </tr>\n",
       "    <tr>\n",
       "      <th>social</th>\n",
       "      <td>68.66054</td>\n",
       "      <td>104.24695</td>\n",
       "      <td>141.87077</td>\n",
       "    </tr>\n",
       "    <tr>\n",
       "      <th>tv</th>\n",
       "      <td>85.43931</td>\n",
       "      <td>106.24143</td>\n",
       "      <td>39.42681</td>\n",
       "    </tr>\n",
       "  </tbody>\n",
       "</table>\n",
       "</div>"
      ],
      "text/plain": [
       "        post-opt-cac  post-opt-mcac  post-opt-spend\n",
       "promo       62.86873      104.22242       117.53211\n",
       "radio       72.32310      104.26164       172.16153\n",
       "search      49.07932      103.84905        26.63278\n",
       "social      68.66054      104.24695       141.87077\n",
       "tv          85.43931      106.24143        39.42681"
      ]
     },
     "execution_count": 14,
     "metadata": {},
     "output_type": "execute_result"
    }
   ],
   "source": [
    "post_opt_report = pd.concat([post_avg_cost_df, post_mcac_df, optim_tot_spend_df], axis=1)\n",
    "post_opt_report.columns = ['post-opt-cac', 'post-opt-mcac', 'post-opt-spend']\n",
    "post_opt_report"
   ]
  },
  {
   "cell_type": "code",
   "execution_count": 15,
   "metadata": {},
   "outputs": [
    {
     "data": {
      "text/html": [
       "<div>\n",
       "<style scoped>\n",
       "    .dataframe tbody tr th:only-of-type {\n",
       "        vertical-align: middle;\n",
       "    }\n",
       "\n",
       "    .dataframe tbody tr th {\n",
       "        vertical-align: top;\n",
       "    }\n",
       "\n",
       "    .dataframe thead th {\n",
       "        text-align: right;\n",
       "    }\n",
       "</style>\n",
       "<table border=\"1\" class=\"dataframe\">\n",
       "  <thead>\n",
       "    <tr style=\"text-align: right;\">\n",
       "      <th></th>\n",
       "      <th>pre-opt-cac</th>\n",
       "      <th>post-opt-cac</th>\n",
       "      <th>pre-opt-mcac</th>\n",
       "      <th>post-opt-mcac</th>\n",
       "      <th>pre-opt-spend</th>\n",
       "      <th>post-opt-spend</th>\n",
       "    </tr>\n",
       "  </thead>\n",
       "  <tbody>\n",
       "    <tr>\n",
       "      <th>promo</th>\n",
       "      <td>39.85150</td>\n",
       "      <td>62.86873</td>\n",
       "      <td>51.75797</td>\n",
       "      <td>104.22242</td>\n",
       "      <td>41.01600</td>\n",
       "      <td>117.53211</td>\n",
       "    </tr>\n",
       "    <tr>\n",
       "      <th>radio</th>\n",
       "      <td>63.41924</td>\n",
       "      <td>72.32310</td>\n",
       "      <td>85.70248</td>\n",
       "      <td>104.26164</td>\n",
       "      <td>131.89400</td>\n",
       "      <td>172.16153</td>\n",
       "    </tr>\n",
       "    <tr>\n",
       "      <th>search</th>\n",
       "      <td>57.88063</td>\n",
       "      <td>49.07932</td>\n",
       "      <td>50.24106</td>\n",
       "      <td>103.84905</td>\n",
       "      <td>17.77200</td>\n",
       "      <td>26.63278</td>\n",
       "    </tr>\n",
       "    <tr>\n",
       "      <th>social</th>\n",
       "      <td>52.19144</td>\n",
       "      <td>68.66054</td>\n",
       "      <td>70.36769</td>\n",
       "      <td>104.24695</td>\n",
       "      <td>81.93300</td>\n",
       "      <td>141.87077</td>\n",
       "    </tr>\n",
       "    <tr>\n",
       "      <th>tv</th>\n",
       "      <td>159.76884</td>\n",
       "      <td>85.43931</td>\n",
       "      <td>205.03113</td>\n",
       "      <td>106.24143</td>\n",
       "      <td>225.00900</td>\n",
       "      <td>39.42681</td>\n",
       "    </tr>\n",
       "  </tbody>\n",
       "</table>\n",
       "</div>"
      ],
      "text/plain": [
       "        pre-opt-cac  post-opt-cac  pre-opt-mcac  post-opt-mcac  pre-opt-spend  \\\n",
       "promo      39.85150      62.86873      51.75797      104.22242       41.01600   \n",
       "radio      63.41924      72.32310      85.70248      104.26164      131.89400   \n",
       "search     57.88063      49.07932      50.24106      103.84905       17.77200   \n",
       "social     52.19144      68.66054      70.36769      104.24695       81.93300   \n",
       "tv        159.76884      85.43931     205.03113      106.24143      225.00900   \n",
       "\n",
       "        post-opt-spend  \n",
       "promo        117.53211  \n",
       "radio        172.16153  \n",
       "search        26.63278  \n",
       "social       141.87077  \n",
       "tv            39.42681  "
      ]
     },
     "execution_count": 15,
     "metadata": {},
     "output_type": "execute_result"
    }
   ],
   "source": [
    "\n",
    "opt_report = pd.concat([pre_opt_report, post_opt_report], axis=1)\n",
    "opt_report = opt_report[[\n",
    "    \"pre-opt-cac\", \"post-opt-cac\", \"pre-opt-mcac\",\n",
    "    \"post-opt-mcac\", \"pre-opt-spend\", \"post-opt-spend\"]\n",
    "]\n",
    "opt_report"
   ]
  }
 ],
 "metadata": {
  "interpreter": {
   "hash": "e4c3ddbee9172d5d924d9319423b481e9709a3db66d191355ac8f24c8de7c580"
  },
  "kernelspec": {
   "display_name": "karpiu",
   "language": "python",
   "name": "karpiu"
  },
  "language_info": {
   "codemirror_mode": {
    "name": "ipython",
    "version": 3
   },
   "file_extension": ".py",
   "mimetype": "text/x-python",
   "name": "python",
   "nbconvert_exporter": "python",
   "pygments_lexer": "ipython3",
   "version": "3.9.12"
  }
 },
 "nbformat": 4,
 "nbformat_minor": 4
}
