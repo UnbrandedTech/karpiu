{
 "cells": [
  {
   "cell_type": "markdown",
   "metadata": {},
   "source": [
    "## Target Maximization"
   ]
  },
  {
   "cell_type": "markdown",
   "metadata": {},
   "source": [
    "This section covers budget optimization by maximizing target with the insights from a fitted MMM."
   ]
  },
  {
   "cell_type": "code",
   "execution_count": 2,
   "metadata": {},
   "outputs": [],
   "source": [
    "import numpy as np\n",
    "import pandas as pd\n",
    "import math\n",
    "import matplotlib.pyplot as plt\n",
    "import pickle\n",
    "\n",
    "from karpiu.planning import TargetMaximizer\n",
    "from karpiu.planning.calculator import calculate_marginal_cost, generate_cost_report\n",
    "from karpiu.explainability import Attributor\n",
    "\n",
    "pd.set_option(\"display.float_format\", lambda x: \"%.5f\" % x)\n",
    "np.set_printoptions(suppress=True)\n",
    "pd.set_option(\"display.max_rows\", 50)"
   ]
  },
  {
   "cell_type": "code",
   "execution_count": 3,
   "metadata": {},
   "outputs": [],
   "source": [
    "%load_ext autoreload\n",
    "%autoreload 2"
   ]
  },
  {
   "cell_type": "markdown",
   "metadata": {},
   "source": [
    "Bring back the fitted model from previous `Quickstart` section."
   ]
  },
  {
   "cell_type": "code",
   "execution_count": 29,
   "metadata": {},
   "outputs": [],
   "source": [
    "with open(\"./resource/model.pkl\", \"rb\") as f:\n",
    "    mmm = pickle.load(f)"
   ]
  },
  {
   "cell_type": "code",
   "execution_count": 39,
   "metadata": {},
   "outputs": [
    {
     "data": {
      "text/html": [
       "<div>\n",
       "<style scoped>\n",
       "    .dataframe tbody tr th:only-of-type {\n",
       "        vertical-align: middle;\n",
       "    }\n",
       "\n",
       "    .dataframe tbody tr th {\n",
       "        vertical-align: top;\n",
       "    }\n",
       "\n",
       "    .dataframe thead th {\n",
       "        text-align: right;\n",
       "    }\n",
       "</style>\n",
       "<table border=\"1\" class=\"dataframe\">\n",
       "  <thead>\n",
       "    <tr style=\"text-align: right;\">\n",
       "      <th></th>\n",
       "      <th>regressor</th>\n",
       "      <th>sign</th>\n",
       "      <th>coef_p50</th>\n",
       "      <th>coef_p05</th>\n",
       "      <th>coef_p95</th>\n",
       "      <th>Pr(coef &gt;= 0)</th>\n",
       "      <th>Pr(coef &lt; 0)</th>\n",
       "      <th>loc_prior</th>\n",
       "      <th>scale_prior</th>\n",
       "    </tr>\n",
       "  </thead>\n",
       "  <tbody>\n",
       "    <tr>\n",
       "      <th>0</th>\n",
       "      <td>promo</td>\n",
       "      <td>Positive</td>\n",
       "      <td>0.04766</td>\n",
       "      <td>0.02871</td>\n",
       "      <td>0.06594</td>\n",
       "      <td>1.00000</td>\n",
       "      <td>0.00000</td>\n",
       "      <td>0.00000</td>\n",
       "      <td>0.10000</td>\n",
       "    </tr>\n",
       "    <tr>\n",
       "      <th>1</th>\n",
       "      <td>radio</td>\n",
       "      <td>Positive</td>\n",
       "      <td>0.10855</td>\n",
       "      <td>0.09161</td>\n",
       "      <td>0.12565</td>\n",
       "      <td>1.00000</td>\n",
       "      <td>0.00000</td>\n",
       "      <td>0.00000</td>\n",
       "      <td>0.10000</td>\n",
       "    </tr>\n",
       "    <tr>\n",
       "      <th>2</th>\n",
       "      <td>search</td>\n",
       "      <td>Positive</td>\n",
       "      <td>0.20670</td>\n",
       "      <td>0.18184</td>\n",
       "      <td>0.23232</td>\n",
       "      <td>1.00000</td>\n",
       "      <td>0.00000</td>\n",
       "      <td>0.00000</td>\n",
       "      <td>0.10000</td>\n",
       "    </tr>\n",
       "    <tr>\n",
       "      <th>3</th>\n",
       "      <td>social</td>\n",
       "      <td>Positive</td>\n",
       "      <td>0.09562</td>\n",
       "      <td>0.07110</td>\n",
       "      <td>0.12149</td>\n",
       "      <td>1.00000</td>\n",
       "      <td>0.00000</td>\n",
       "      <td>0.00000</td>\n",
       "      <td>0.10000</td>\n",
       "    </tr>\n",
       "    <tr>\n",
       "      <th>4</th>\n",
       "      <td>tv</td>\n",
       "      <td>Positive</td>\n",
       "      <td>0.18943</td>\n",
       "      <td>0.16365</td>\n",
       "      <td>0.21638</td>\n",
       "      <td>1.00000</td>\n",
       "      <td>0.00000</td>\n",
       "      <td>0.00000</td>\n",
       "      <td>0.10000</td>\n",
       "    </tr>\n",
       "  </tbody>\n",
       "</table>\n",
       "</div>"
      ],
      "text/plain": [
       "  regressor      sign  coef_p50  coef_p05  coef_p95  Pr(coef >= 0)  \\\n",
       "0     promo  Positive   0.04766   0.02871   0.06594        1.00000   \n",
       "1     radio  Positive   0.10855   0.09161   0.12565        1.00000   \n",
       "2    search  Positive   0.20670   0.18184   0.23232        1.00000   \n",
       "3    social  Positive   0.09562   0.07110   0.12149        1.00000   \n",
       "4        tv  Positive   0.18943   0.16365   0.21638        1.00000   \n",
       "\n",
       "   Pr(coef < 0)  loc_prior  scale_prior  \n",
       "0       0.00000    0.00000      0.10000  \n",
       "1       0.00000    0.00000      0.10000  \n",
       "2       0.00000    0.00000      0.10000  \n",
       "3       0.00000    0.00000      0.10000  \n",
       "4       0.00000    0.00000      0.10000  "
      ]
     },
     "execution_count": 39,
     "metadata": {},
     "output_type": "execute_result"
    }
   ],
   "source": [
    "mmm.get_regression_summary()"
   ]
  },
  {
   "cell_type": "code",
   "execution_count": 4,
   "metadata": {},
   "outputs": [
    {
     "ename": "NameError",
     "evalue": "name 'mmm' is not defined",
     "output_type": "error",
     "traceback": [
      "\u001b[0;31m---------------------------------------------------------------------------\u001b[0m",
      "\u001b[0;31mNameError\u001b[0m                                 Traceback (most recent call last)",
      "Cell \u001b[0;32mIn[4], line 3\u001b[0m\n\u001b[1;32m      1\u001b[0m budget_start \u001b[38;5;241m=\u001b[39m pd\u001b[38;5;241m.\u001b[39mto_datetime(\u001b[38;5;124m\"\u001b[39m\u001b[38;5;124m2021-01-01\u001b[39m\u001b[38;5;124m\"\u001b[39m)\n\u001b[1;32m      2\u001b[0m budget_end \u001b[38;5;241m=\u001b[39m pd\u001b[38;5;241m.\u001b[39mto_datetime(\u001b[38;5;124m\"\u001b[39m\u001b[38;5;124m2021-01-31\u001b[39m\u001b[38;5;124m\"\u001b[39m)\n\u001b[0;32m----> 3\u001b[0m optim_channels \u001b[38;5;241m=\u001b[39m \u001b[43mmmm\u001b[49m\u001b[38;5;241m.\u001b[39mget_spend_cols()\n\u001b[1;32m      4\u001b[0m \u001b[38;5;66;03m# to be safe in beta version, use sorted list of channels\u001b[39;00m\n\u001b[1;32m      5\u001b[0m optim_channels\u001b[38;5;241m.\u001b[39msort()\n",
      "\u001b[0;31mNameError\u001b[0m: name 'mmm' is not defined"
     ]
    }
   ],
   "source": [
    "budget_start = pd.to_datetime(\"2021-01-01\")\n",
    "budget_end = pd.to_datetime(\"2021-01-31\")\n",
    "optim_channels = mmm.get_spend_cols()\n",
    "# to be safe in beta version, use sorted list of channels\n",
    "optim_channels.sort()\n",
    "\n",
    "# spend_scaler a fixed constant to reduce over-float of spend\n",
    "# not that they need to be consistent with the subsequent calculation of\n",
    "# post optimization metrics\n",
    "spend_scaler = 1e3"
   ]
  },
  {
   "cell_type": "code",
   "execution_count": 31,
   "metadata": {},
   "outputs": [
    {
     "name": "stdout",
     "output_type": "stream",
     "text": [
      "Optimization terminated successfully    (Exit mode 0)\n",
      "            Current function value: -11647.677306478374\n",
      "            Iterations: 170\n",
      "            Function evaluations: 26389\n",
      "            Gradient evaluations: 166\n"
     ]
    }
   ],
   "source": [
    "maximizer = TargetMaximizer(\n",
    "    model=mmm,\n",
    "    budget_start=budget_start,\n",
    "    budget_end=budget_end,\n",
    "    optim_channel=optim_channels,\n",
    ")\n",
    "optim_spend_df = maximizer.optimize(maxiter=1000, eps=1e-3)"
   ]
  },
  {
   "cell_type": "code",
   "execution_count": 32,
   "metadata": {},
   "outputs": [],
   "source": [
    "optim_spend_matrix = maximizer.get_current_state()\n",
    "init_spend_matrix = maximizer.get_init_state()"
   ]
  },
  {
   "cell_type": "code",
   "execution_count": 33,
   "metadata": {},
   "outputs": [
    {
     "name": "stdout",
     "output_type": "stream",
     "text": [
      "Suggested total spend: 490508\n",
      "Total Budget: 490508\n"
     ]
    }
   ],
   "source": [
    "# total spend suggest\n",
    "print(\"Suggested total spend: {:.0f}\".format(np.sum(optim_spend_matrix)))\n",
    "# total budget\n",
    "print(\"Total Budget: {:.0f}\".format(np.sum(init_spend_matrix)))"
   ]
  },
  {
   "cell_type": "markdown",
   "metadata": {},
   "source": [
    "### Budget Allocation"
   ]
  },
  {
   "cell_type": "code",
   "execution_count": 34,
   "metadata": {},
   "outputs": [],
   "source": [
    "init_total_spend = np.sum(init_spend_matrix, 0)\n",
    "optim_total_spend = np.sum(optim_spend_matrix, 0)\n",
    "plot_data = np.vstack([init_total_spend, optim_total_spend])\n",
    "plot_data.shape\n",
    "\n",
    "fig, ax = plt.subplots(1, 1, figsize=(20, 10))\n",
    "bottom = 0.0\n",
    "for idx, label in enumerate(optim_channels):\n",
    "    ax.bar(x=[\"Pre\", \"Post\"], height=plot_data[:, idx], bottom=bottom, label=label)\n",
    "    bottom += plot_data[:, idx]\n",
    "# ax.set_title(\"Spend Allocation Pre vs. Post Optimization\")\n",
    "ax.legend(\n",
    "    loc=\"lower center\",\n",
    "    bbox_to_anchor=(0.5, -0.10),\n",
    "    ncol=math.ceil(len(optim_channels) / 2),\n",
    ");"
   ]
  },
  {
   "cell_type": "markdown",
   "metadata": {},
   "source": [
    "### Average and Marginal Cost Change"
   ]
  },
  {
   "cell_type": "code",
   "execution_count": 35,
   "metadata": {},
   "outputs": [],
   "source": [
    "df = mmm.get_raw_df()"
   ]
  },
  {
   "cell_type": "code",
   "execution_count": 36,
   "metadata": {},
   "outputs": [
    {
     "data": {
      "text/html": [
       "<div>\n",
       "<style scoped>\n",
       "    .dataframe tbody tr th:only-of-type {\n",
       "        vertical-align: middle;\n",
       "    }\n",
       "\n",
       "    .dataframe tbody tr th {\n",
       "        vertical-align: top;\n",
       "    }\n",
       "\n",
       "    .dataframe thead th {\n",
       "        text-align: right;\n",
       "    }\n",
       "</style>\n",
       "<table border=\"1\" class=\"dataframe\">\n",
       "  <thead>\n",
       "    <tr style=\"text-align: right;\">\n",
       "      <th></th>\n",
       "      <th>date</th>\n",
       "      <th>sales</th>\n",
       "      <th>promo</th>\n",
       "      <th>radio</th>\n",
       "      <th>search</th>\n",
       "      <th>social</th>\n",
       "      <th>tv</th>\n",
       "    </tr>\n",
       "  </thead>\n",
       "  <tbody>\n",
       "    <tr>\n",
       "      <th>0</th>\n",
       "      <td>2019-01-01</td>\n",
       "      <td>888.00000</td>\n",
       "      <td>2003.00000</td>\n",
       "      <td>4779.00000</td>\n",
       "      <td>4603.00000</td>\n",
       "      <td>2123.00000</td>\n",
       "      <td>14120.00000</td>\n",
       "    </tr>\n",
       "    <tr>\n",
       "      <th>1</th>\n",
       "      <td>2019-01-02</td>\n",
       "      <td>978.00000</td>\n",
       "      <td>2210.00000</td>\n",
       "      <td>2676.00000</td>\n",
       "      <td>4028.00000</td>\n",
       "      <td>0.00000</td>\n",
       "      <td>7076.00000</td>\n",
       "    </tr>\n",
       "    <tr>\n",
       "      <th>2</th>\n",
       "      <td>2019-01-03</td>\n",
       "      <td>902.00000</td>\n",
       "      <td>0.00000</td>\n",
       "      <td>7219.00000</td>\n",
       "      <td>4037.00000</td>\n",
       "      <td>4000.00000</td>\n",
       "      <td>4118.00000</td>\n",
       "    </tr>\n",
       "    <tr>\n",
       "      <th>3</th>\n",
       "      <td>2019-01-04</td>\n",
       "      <td>904.00000</td>\n",
       "      <td>0.00000</td>\n",
       "      <td>7826.00000</td>\n",
       "      <td>3722.00000</td>\n",
       "      <td>0.00000</td>\n",
       "      <td>2926.00000</td>\n",
       "    </tr>\n",
       "    <tr>\n",
       "      <th>4</th>\n",
       "      <td>2019-01-05</td>\n",
       "      <td>972.00000</td>\n",
       "      <td>1076.00000</td>\n",
       "      <td>7877.00000</td>\n",
       "      <td>4353.00000</td>\n",
       "      <td>1771.00000</td>\n",
       "      <td>10259.00000</td>\n",
       "    </tr>\n",
       "    <tr>\n",
       "      <th>...</th>\n",
       "      <td>...</td>\n",
       "      <td>...</td>\n",
       "      <td>...</td>\n",
       "      <td>...</td>\n",
       "      <td>...</td>\n",
       "      <td>...</td>\n",
       "      <td>...</td>\n",
       "    </tr>\n",
       "    <tr>\n",
       "      <th>1062</th>\n",
       "      <td>2021-11-28</td>\n",
       "      <td>3037.00000</td>\n",
       "      <td>2143.00000</td>\n",
       "      <td>4028.00000</td>\n",
       "      <td>4762.00000</td>\n",
       "      <td>3858.00000</td>\n",
       "      <td>0.00000</td>\n",
       "    </tr>\n",
       "    <tr>\n",
       "      <th>1063</th>\n",
       "      <td>2021-11-29</td>\n",
       "      <td>3106.00000</td>\n",
       "      <td>2599.00000</td>\n",
       "      <td>0.00000</td>\n",
       "      <td>3328.00000</td>\n",
       "      <td>2232.00000</td>\n",
       "      <td>862.00000</td>\n",
       "    </tr>\n",
       "    <tr>\n",
       "      <th>1064</th>\n",
       "      <td>2021-11-30</td>\n",
       "      <td>3412.00000</td>\n",
       "      <td>2473.00000</td>\n",
       "      <td>0.00000</td>\n",
       "      <td>3901.00000</td>\n",
       "      <td>2765.00000</td>\n",
       "      <td>14481.00000</td>\n",
       "    </tr>\n",
       "    <tr>\n",
       "      <th>1065</th>\n",
       "      <td>2021-12-01</td>\n",
       "      <td>3198.00000</td>\n",
       "      <td>1068.00000</td>\n",
       "      <td>1583.00000</td>\n",
       "      <td>3879.00000</td>\n",
       "      <td>2198.00000</td>\n",
       "      <td>0.00000</td>\n",
       "    </tr>\n",
       "    <tr>\n",
       "      <th>1066</th>\n",
       "      <td>2021-12-02</td>\n",
       "      <td>3082.00000</td>\n",
       "      <td>2176.00000</td>\n",
       "      <td>4170.00000</td>\n",
       "      <td>0.00000</td>\n",
       "      <td>2456.00000</td>\n",
       "      <td>12795.00000</td>\n",
       "    </tr>\n",
       "  </tbody>\n",
       "</table>\n",
       "<p>1067 rows × 7 columns</p>\n",
       "</div>"
      ],
      "text/plain": [
       "           date      sales      promo      radio     search     social  \\\n",
       "0    2019-01-01  888.00000 2003.00000 4779.00000 4603.00000 2123.00000   \n",
       "1    2019-01-02  978.00000 2210.00000 2676.00000 4028.00000    0.00000   \n",
       "2    2019-01-03  902.00000    0.00000 7219.00000 4037.00000 4000.00000   \n",
       "3    2019-01-04  904.00000    0.00000 7826.00000 3722.00000    0.00000   \n",
       "4    2019-01-05  972.00000 1076.00000 7877.00000 4353.00000 1771.00000   \n",
       "...         ...        ...        ...        ...        ...        ...   \n",
       "1062 2021-11-28 3037.00000 2143.00000 4028.00000 4762.00000 3858.00000   \n",
       "1063 2021-11-29 3106.00000 2599.00000    0.00000 3328.00000 2232.00000   \n",
       "1064 2021-11-30 3412.00000 2473.00000    0.00000 3901.00000 2765.00000   \n",
       "1065 2021-12-01 3198.00000 1068.00000 1583.00000 3879.00000 2198.00000   \n",
       "1066 2021-12-02 3082.00000 2176.00000 4170.00000    0.00000 2456.00000   \n",
       "\n",
       "              tv  \n",
       "0    14120.00000  \n",
       "1     7076.00000  \n",
       "2     4118.00000  \n",
       "3     2926.00000  \n",
       "4    10259.00000  \n",
       "...          ...  \n",
       "1062     0.00000  \n",
       "1063   862.00000  \n",
       "1064 14481.00000  \n",
       "1065     0.00000  \n",
       "1066 12795.00000  \n",
       "\n",
       "[1067 rows x 7 columns]"
      ]
     },
     "execution_count": 36,
     "metadata": {},
     "output_type": "execute_result"
    }
   ],
   "source": [
    "df"
   ]
  },
  {
   "cell_type": "code",
   "execution_count": 85,
   "metadata": {},
   "outputs": [
    {
     "data": {
      "text/html": [
       "<div>\n",
       "<style scoped>\n",
       "    .dataframe tbody tr th:only-of-type {\n",
       "        vertical-align: middle;\n",
       "    }\n",
       "\n",
       "    .dataframe tbody tr th {\n",
       "        vertical-align: top;\n",
       "    }\n",
       "\n",
       "    .dataframe thead th {\n",
       "        text-align: right;\n",
       "    }\n",
       "</style>\n",
       "<table border=\"1\" class=\"dataframe\">\n",
       "  <thead>\n",
       "    <tr style=\"text-align: right;\">\n",
       "      <th></th>\n",
       "      <th>pre-opt-avg-cost</th>\n",
       "      <th>post-opt-avg-cost</th>\n",
       "      <th>pre-opt-marginal-cost</th>\n",
       "      <th>post-opt-marginal-cost</th>\n",
       "      <th>pre-opt-spend</th>\n",
       "      <th>post-opt-spend</th>\n",
       "    </tr>\n",
       "  </thead>\n",
       "  <tbody>\n",
       "    <tr>\n",
       "      <th>promo</th>\n",
       "      <td>72.16317</td>\n",
       "      <td>54.56168</td>\n",
       "      <td>76.79699</td>\n",
       "      <td>55.28816</td>\n",
       "      <td>55.32300</td>\n",
       "      <td>0.00000</td>\n",
       "    </tr>\n",
       "    <tr>\n",
       "      <th>radio</th>\n",
       "      <td>54.97775</td>\n",
       "      <td>34.85148</td>\n",
       "      <td>57.34654</td>\n",
       "      <td>38.16549</td>\n",
       "      <td>123.91600</td>\n",
       "      <td>50.65682</td>\n",
       "    </tr>\n",
       "    <tr>\n",
       "      <th>search</th>\n",
       "      <td>23.99325</td>\n",
       "      <td>33.13144</td>\n",
       "      <td>25.49489</td>\n",
       "      <td>37.91734</td>\n",
       "      <td>94.99100</td>\n",
       "      <td>225.34506</td>\n",
       "    </tr>\n",
       "    <tr>\n",
       "      <th>social</th>\n",
       "      <td>22.13891</td>\n",
       "      <td>33.65296</td>\n",
       "      <td>23.51090</td>\n",
       "      <td>37.93296</td>\n",
       "      <td>70.18200</td>\n",
       "      <td>251.82098</td>\n",
       "    </tr>\n",
       "    <tr>\n",
       "      <th>tv</th>\n",
       "      <td>75.16130</td>\n",
       "      <td>37.46793</td>\n",
       "      <td>80.47902</td>\n",
       "      <td>39.32227</td>\n",
       "      <td>185.88400</td>\n",
       "      <td>2.47315</td>\n",
       "    </tr>\n",
       "  </tbody>\n",
       "</table>\n",
       "</div>"
      ],
      "text/plain": [
       "        pre-opt-avg-cost  post-opt-avg-cost  pre-opt-marginal-cost  \\\n",
       "promo           72.16317           54.56168               76.79699   \n",
       "radio           54.97775           34.85148               57.34654   \n",
       "search          23.99325           33.13144               25.49489   \n",
       "social          22.13891           33.65296               23.51090   \n",
       "tv              75.16130           37.46793               80.47902   \n",
       "\n",
       "        post-opt-marginal-cost  pre-opt-spend  post-opt-spend  \n",
       "promo                 55.28816       55.32300         0.00000  \n",
       "radio                 38.16549      123.91600        50.65682  \n",
       "search                37.91734       94.99100       225.34506  \n",
       "social                37.93296       70.18200       251.82098  \n",
       "tv                    39.32227      185.88400         2.47315  "
      ]
     },
     "execution_count": 85,
     "metadata": {},
     "output_type": "execute_result"
    }
   ],
   "source": [
    "cost_report = generate_cost_report(\n",
    "    model=mmm,\n",
    "    channels=optim_channels,\n",
    "    start=budget_start,\n",
    "    end=budget_end,\n",
    "    pre_spend_df=df,\n",
    "    post_spend_df=optim_spend_df,\n",
    ")\n",
    "cost_report"
   ]
  },
  {
   "cell_type": "markdown",
   "metadata": {},
   "source": [
    "### Outcome Plot"
   ]
  },
  {
   "cell_type": "code",
   "execution_count": 61,
   "metadata": {},
   "outputs": [],
   "source": [
    "df = mmm.get_raw_df()\n",
    "optim_pred = mmm.predict(optim_spend_df)\n",
    "init_pred = mmm.predict(df)"
   ]
  },
  {
   "cell_type": "code",
   "execution_count": 62,
   "metadata": {},
   "outputs": [
    {
     "data": {
      "image/png": "[encoded data removed]",
      "text/plain": [
       "<Figure size 1600x800 with 1 Axes>"
      ]
     },
     "metadata": {},
     "output_type": "display_data"
    }
   ],
   "source": [
    "fig, ax = plt.subplots(1, 1, figsize=(16, 8))\n",
    "measurement_mask = (df[\"date\"] >= maximizer.calc_start) & (\n",
    "    df[\"date\"] <= maximizer.calc_end\n",
    ")\n",
    "ax.plot(\n",
    "    optim_pred.loc[measurement_mask, \"date\"].values,\n",
    "    optim_pred.loc[measurement_mask, \"prediction\"].values,\n",
    "    label=\"optimal\",\n",
    "    alpha=0.8,\n",
    ")\n",
    "ax.plot(\n",
    "    init_pred.loc[measurement_mask, \"date\"].values,\n",
    "    init_pred.loc[measurement_mask, \"prediction\"].values,\n",
    "    label=\"original\",\n",
    "    alpha=0.8,\n",
    ")\n",
    "fig.legend()\n",
    "fig.tight_layout();"
   ]
  },
  {
   "cell_type": "code",
   "execution_count": 14,
   "metadata": {},
   "outputs": [],
   "source": [
    "# check2: total predicted response must be higher than current\n",
    "total_optim_pred = np.sum(optim_pred.loc[measurement_mask, \"prediction\"].values)\n",
    "total_init_pred = np.sum(init_pred.loc[measurement_mask, \"prediction\"].values)\n",
    "assert total_optim_pred > total_init_pred"
   ]
  },
  {
   "cell_type": "code",
   "execution_count": 6,
   "metadata": {},
   "outputs": [],
   "source": [
    "import pytest\n",
    "import numpy as np\n",
    "import pandas as pd\n",
    "\n",
    "from karpiu.models import MMM\n",
    "from karpiu.simulation import make_mmm_daily_data\n",
    "from karpiu.planning import TargetMaximizer, generate_cost_report"
   ]
  },
  {
   "cell_type": "code",
   "execution_count": 7,
   "metadata": {},
   "outputs": [
    {
     "name": "stderr",
     "output_type": "stream",
     "text": [
      "2023-02-27 15:25:05 - karpiu-mmm - INFO - Initialize model\n",
      "2023-02-27 15:25:05 - karpiu-mmm - INFO - Deriving saturation constants...\n",
      "2023-02-27 15:25:05 - karpiu-mmm - INFO - Derived saturation constants.\n",
      "2023-02-27 15:25:05 - karpiu-mmm - INFO - Set hyper-parameters.\n",
      "2023-02-27 15:25:05 - karpiu-mmm - INFO - Best params damped_factor set as 0.94900\n",
      "2023-02-27 15:25:05 - karpiu-mmm - INFO - Best params level_sm_input set as 0.01000\n",
      "2023-02-27 15:25:05 - karpiu-mmm - INFO - Fit final model.\n",
      "2023-02-27 15:25:05 - karpiu-mmm - INFO - Build a default regression scheme\n",
      "2023-02-27 15:25:05 - orbit - INFO - Sampling (PyStan) with chains: 4, cores: 8, temperature: 1.000, warmups (per chain): 250 and samples(per chain): 250.\n"
     ]
    },
    {
     "data": {
      "application/vnd.jupyter.widget-view+json": {
       "model_id": "42e401298e144d58b94f289a45ac2aca",
       "version_major": 2,
       "version_minor": 0
      },
      "text/plain": [
       "chain 1 |          | 00:00 Status"
      ]
     },
     "metadata": {},
     "output_type": "display_data"
    },
    {
     "data": {
      "application/vnd.jupyter.widget-view+json": {
       "model_id": "f4b5ca33f5b447e69fb0b8f88ab22c2e",
       "version_major": 2,
       "version_minor": 0
      },
      "text/plain": [
       "chain 2 |          | 00:00 Status"
      ]
     },
     "metadata": {},
     "output_type": "display_data"
    },
    {
     "data": {
      "application/vnd.jupyter.widget-view+json": {
       "model_id": "cc91f309f114432d88fcec97ec61ecc2",
       "version_major": 2,
       "version_minor": 0
      },
      "text/plain": [
       "chain 3 |          | 00:00 Status"
      ]
     },
     "metadata": {},
     "output_type": "display_data"
    },
    {
     "data": {
      "application/vnd.jupyter.widget-view+json": {
       "model_id": "92e82a003c44424a8d5af84142039d45",
       "version_major": 2,
       "version_minor": 0
      },
      "text/plain": [
       "chain 4 |          | 00:00 Status"
      ]
     },
     "metadata": {},
     "output_type": "display_data"
    },
    {
     "name": "stdout",
     "output_type": "stream",
     "text": [
      "                                                                                                                                                                                                                                                                                                                                \n"
     ]
    },
    {
     "name": "stderr",
     "output_type": "stream",
     "text": [
      "2023-02-27 15:25:57 - karpiu-mmm - INFO - Spend channels regression coefficients sum (0.6444090000000001) is within common range (0, 0.8].\n"
     ]
    },
    {
     "name": "stdout",
     "output_type": "stream",
     "text": [
      "Optimization terminated successfully    (Exit mode 0)\n",
      "            Current function value: -7391.252814647293\n",
      "            Iterations: 59\n",
      "            Function evaluations: 9068\n",
      "            Gradient evaluations: 58\n"
     ]
    },
    {
     "name": "stderr",
     "output_type": "stream",
     "text": [
      "/Users/towinazure/edwinnglabs/karpiu/karpiu/planning/calculator.py:474: RuntimeWarning: overflow encountered in exp\n",
      "  baseline_pred_comp =  np.exp(reg_comp + base_comp)\n",
      "/Users/towinazure/edwinnglabs/karpiu/karpiu/planning/calculator.py:497: RuntimeWarning: overflow encountered in exp\n",
      "  new_pred_comp =  np.exp(new_reg_comp + base_comp)\n",
      "/Users/towinazure/edwinnglabs/karpiu/karpiu/planning/calculator.py:498: RuntimeWarning: invalid value encountered in subtract\n",
      "  marginal_cost[idx] = np.sum(delta_matrix) / np.sum(new_pred_comp - baseline_pred_comp)\n",
      "/Users/towinazure/edwinnglabs/karpiu/karpiu/planning/calculator.py:474: RuntimeWarning: overflow encountered in exp\n",
      "  baseline_pred_comp =  np.exp(reg_comp + base_comp)\n",
      "/Users/towinazure/edwinnglabs/karpiu/karpiu/planning/calculator.py:497: RuntimeWarning: overflow encountered in exp\n",
      "  new_pred_comp =  np.exp(new_reg_comp + base_comp)\n",
      "/Users/towinazure/edwinnglabs/karpiu/karpiu/planning/calculator.py:498: RuntimeWarning: invalid value encountered in subtract\n",
      "  marginal_cost[idx] = np.sum(delta_matrix) / np.sum(new_pred_comp - baseline_pred_comp)\n"
     ]
    }
   ],
   "source": [
    "# data_args\n",
    "seed = 2022\n",
    "n_steps = 365 * 3\n",
    "channels_coef = [0.053, 0.15, 0.19, 0.175, 0.15]\n",
    "channels = [\"promo\", \"radio\", \"search\", \"social\", \"tv\"]\n",
    "features_loc = np.array([2000, 5000, 3850, 3000, 7500])\n",
    "features_scale = np.array([550, 2500, 500, 1000, 3500])\n",
    "scalability = np.array([3.0, 1.25, 0.8, 1.3, 1.5])\n",
    "start_date = \"2019-01-01\"\n",
    "adstock_args = {\n",
    "    \"n_steps\": 28,\n",
    "    \"peak_step\": np.array([10, 8, 5, 3, 2]),\n",
    "    \"left_growth\": np.array([0.05, 0.08, 0.1, 0.5, 0.75]),\n",
    "    \"right_growth\": np.array([-0.03, -0.6, -0.5, -0.1, -0.25]),\n",
    "}\n",
    "best_params = {\n",
    "    \"damped_factor\": 0.949,\n",
    "    \"level_sm_input\": 0.01,\n",
    "}\n",
    "np.random.seed(seed)\n",
    "\n",
    "df, scalability_df, adstock_df, event_cols = make_mmm_daily_data(\n",
    "    channels_coef=channels_coef,\n",
    "    channels=channels,\n",
    "    features_loc=features_loc,\n",
    "    features_scale=features_scale,\n",
    "    scalability=scalability,\n",
    "    n_steps=n_steps,\n",
    "    start_date=start_date,\n",
    "    adstock_args=adstock_args,\n",
    "    with_yearly_seasonality=True,\n",
    "    with_weekly_seasonality=True,\n",
    "    country=\"US\",\n",
    ")\n",
    "\n",
    "mmm = MMM(\n",
    "    kpi_col=\"sales\",\n",
    "    date_col=\"date\",\n",
    "    spend_cols=channels,\n",
    "    event_cols=event_cols,\n",
    "    seed=seed,\n",
    "    adstock_df=adstock_df,\n",
    "    seasonality=[7, 365.25],\n",
    "    fs_orders=[2, 3],\n",
    ")\n",
    "mmm.derive_saturation(df=df, scalability_df=scalability_df)\n",
    "mmm.set_hyper_params(params=best_params)\n",
    "mmm.fit(df, num_warmup=1000, num_sample=1000, chains=4)\n",
    "budget_start = \"2020-01-01\"\n",
    "budget_end = \"2020-01-31\"\n",
    "optim_channels = mmm.get_spend_cols()\n",
    "# to be safe in beta version, use sorted list of channels\n",
    "optim_channels.sort()\n",
    "\n",
    "maximizer = TargetMaximizer(\n",
    "    model=mmm,\n",
    "    budget_start=budget_start,\n",
    "    budget_end=budget_end,\n",
    "    optim_channel=optim_channels,\n",
    ")\n",
    "optim_spend_df = maximizer.optimize(maxiter=1000, eps=1e-3)\n",
    "\n",
    "optim_spend_matrix = maximizer.get_current_state()\n",
    "init_spend_matrix = maximizer.get_init_state()\n",
    "# always spend all budget in target maximization; assure the total preserves\n",
    "assert np.allclose(np.sum(optim_spend_matrix), np.sum(init_spend_matrix))\n",
    "\n",
    "cost_report = generate_cost_report(\n",
    "    model=mmm,\n",
    "    channels=optim_channels,\n",
    "    start=budget_start,\n",
    "    end=budget_end,\n",
    "    pre_spend_df=df,\n",
    "    post_spend_df=optim_spend_df,\n",
    ")\n",
    "\n",
    "pre_ac = cost_report[\"pre-opt-avg-cost\"].values\n",
    "pre_mc = cost_report[\"pre-opt-marginal-cost\"].values\n",
    "post_ac = cost_report[\"post-opt-avg-cost\"].values\n",
    "post_mc = cost_report[\"post-opt-marginal-cost\"].values"
   ]
  },
  {
   "cell_type": "code",
   "execution_count": 16,
   "metadata": {},
   "outputs": [],
   "source": [
    "cost_report = generate_cost_report(\n",
    "    model=mmm,\n",
    "    channels=optim_channels,\n",
    "    start=budget_start,\n",
    "    end=budget_end,\n",
    "    pre_spend_df=df,\n",
    "    post_spend_df=optim_spend_df,\n",
    "    delta=1e-3,\n",
    ")\n",
    "\n",
    "pre_ac = cost_report[\"pre-opt-avg-cost\"].values\n",
    "pre_mc = cost_report[\"pre-opt-marginal-cost\"].values\n",
    "post_ac = cost_report[\"post-opt-avg-cost\"].values\n",
    "post_mc = cost_report[\"post-opt-marginal-cost\"].values"
   ]
  },
  {
   "cell_type": "code",
   "execution_count": 17,
   "metadata": {},
   "outputs": [
    {
     "data": {
      "text/html": [
       "<div>\n",
       "<style scoped>\n",
       "    .dataframe tbody tr th:only-of-type {\n",
       "        vertical-align: middle;\n",
       "    }\n",
       "\n",
       "    .dataframe tbody tr th {\n",
       "        vertical-align: top;\n",
       "    }\n",
       "\n",
       "    .dataframe thead th {\n",
       "        text-align: right;\n",
       "    }\n",
       "</style>\n",
       "<table border=\"1\" class=\"dataframe\">\n",
       "  <thead>\n",
       "    <tr style=\"text-align: right;\">\n",
       "      <th></th>\n",
       "      <th>pre-opt-avg-cost</th>\n",
       "      <th>post-opt-avg-cost</th>\n",
       "      <th>pre-opt-marginal-cost</th>\n",
       "      <th>post-opt-marginal-cost</th>\n",
       "      <th>pre-opt-spend</th>\n",
       "      <th>post-opt-spend</th>\n",
       "    </tr>\n",
       "  </thead>\n",
       "  <tbody>\n",
       "    <tr>\n",
       "      <th>promo</th>\n",
       "      <td>72.16317</td>\n",
       "      <td>54.56168</td>\n",
       "      <td>469147.15739</td>\n",
       "      <td>360598.24124</td>\n",
       "      <td>55.32300</td>\n",
       "      <td>0.00000</td>\n",
       "    </tr>\n",
       "    <tr>\n",
       "      <th>radio</th>\n",
       "      <td>54.97775</td>\n",
       "      <td>34.85148</td>\n",
       "      <td>260810.81783</td>\n",
       "      <td>182432.16835</td>\n",
       "      <td>123.91600</td>\n",
       "      <td>50.65682</td>\n",
       "    </tr>\n",
       "    <tr>\n",
       "      <th>search</th>\n",
       "      <td>23.99325</td>\n",
       "      <td>33.13144</td>\n",
       "      <td>104671.65934</td>\n",
       "      <td>162988.80400</td>\n",
       "      <td>94.99100</td>\n",
       "      <td>225.34506</td>\n",
       "    </tr>\n",
       "    <tr>\n",
       "      <th>social</th>\n",
       "      <td>22.13891</td>\n",
       "      <td>33.65296</td>\n",
       "      <td>88686.97617</td>\n",
       "      <td>149651.66410</td>\n",
       "      <td>70.18200</td>\n",
       "      <td>251.82098</td>\n",
       "    </tr>\n",
       "    <tr>\n",
       "      <th>tv</th>\n",
       "      <td>75.16130</td>\n",
       "      <td>37.46793</td>\n",
       "      <td>626499.47314</td>\n",
       "      <td>320772.02676</td>\n",
       "      <td>185.88400</td>\n",
       "      <td>2.47315</td>\n",
       "    </tr>\n",
       "  </tbody>\n",
       "</table>\n",
       "</div>"
      ],
      "text/plain": [
       "        pre-opt-avg-cost  post-opt-avg-cost  pre-opt-marginal-cost  \\\n",
       "promo           72.16317           54.56168           469147.15739   \n",
       "radio           54.97775           34.85148           260810.81783   \n",
       "search          23.99325           33.13144           104671.65934   \n",
       "social          22.13891           33.65296            88686.97617   \n",
       "tv              75.16130           37.46793           626499.47314   \n",
       "\n",
       "        post-opt-marginal-cost  pre-opt-spend  post-opt-spend  \n",
       "promo             360598.24124       55.32300         0.00000  \n",
       "radio             182432.16835      123.91600        50.65682  \n",
       "search            162988.80400       94.99100       225.34506  \n",
       "social            149651.66410       70.18200       251.82098  \n",
       "tv                320772.02676      185.88400         2.47315  "
      ]
     },
     "execution_count": 17,
     "metadata": {},
     "output_type": "execute_result"
    }
   ],
   "source": [
    "cost_report"
   ]
  },
  {
   "cell_type": "code",
   "execution_count": 109,
   "metadata": {},
   "outputs": [],
   "source": [
    "maximizer = TargetMaximizer(\n",
    "    model=mmm,\n",
    "    budget_start=budget_start,\n",
    "    budget_end=budget_end,\n",
    "    optim_channel=optim_channels,\n",
    ")"
   ]
  },
  {
   "cell_type": "code",
   "execution_count": 110,
   "metadata": {},
   "outputs": [
    {
     "data": {
      "text/plain": [
       "[7, 365.25]"
      ]
     },
     "execution_count": 110,
     "metadata": {},
     "output_type": "execute_result"
    }
   ],
   "source": [
    "mmm.seasonality"
   ]
  },
  {
   "cell_type": "code",
   "execution_count": 111,
   "metadata": {},
   "outputs": [
    {
     "data": {
      "text/plain": [
       "(58,)"
      ]
     },
     "execution_count": 111,
     "metadata": {},
     "output_type": "execute_result"
    }
   ],
   "source": [
    "maximizer.base_comp.shape"
   ]
  },
  {
   "cell_type": "code",
   "execution_count": 153,
   "metadata": {},
   "outputs": [
    {
     "data": {
      "text/plain": [
       "(85,)"
      ]
     },
     "execution_count": 153,
     "metadata": {},
     "output_type": "execute_result"
    }
   ],
   "source": [
    "maximizer.calc_dt_array.shape"
   ]
  },
  {
   "cell_type": "code",
   "execution_count": 112,
   "metadata": {},
   "outputs": [],
   "source": [
    "coef_matrix = mmm.get_coef_matrix(date_array=maximizer.calc_dt_array[maximizer.n_max_adstock:], regressors=optim_channels)"
   ]
  },
  {
   "cell_type": "code",
   "execution_count": 113,
   "metadata": {},
   "outputs": [
    {
     "data": {
      "text/plain": [
       "(58, 5)"
      ]
     },
     "execution_count": 113,
     "metadata": {},
     "output_type": "execute_result"
    }
   ],
   "source": [
    "coef_matrix.shape"
   ]
  },
  {
   "cell_type": "code",
   "execution_count": 114,
   "metadata": {},
   "outputs": [
    {
     "data": {
      "text/plain": [
       "['promo', 'radio', 'search', 'social', 'tv']"
      ]
     },
     "execution_count": 114,
     "metadata": {},
     "output_type": "execute_result"
    }
   ],
   "source": [
    "optim_channels"
   ]
  },
  {
   "cell_type": "code",
   "execution_count": 146,
   "metadata": {},
   "outputs": [
    {
     "data": {
      "text/plain": [
       "(1095, 5)"
      ]
     },
     "execution_count": 146,
     "metadata": {},
     "output_type": "execute_result"
    }
   ],
   "source": [
    "regressors_matrix = df.loc[:, optim_channels].values\n",
    "regressors_matrix.shape"
   ]
  },
  {
   "cell_type": "code",
   "execution_count": 144,
   "metadata": {},
   "outputs": [
    {
     "data": {
      "text/plain": [
       "(58, 5)"
      ]
     },
     "execution_count": 144,
     "metadata": {},
     "output_type": "execute_result"
    }
   ],
   "source": [
    "maximizer.optim_coef_matrix.shape"
   ]
  },
  {
   "cell_type": "code",
   "execution_count": 117,
   "metadata": {},
   "outputs": [],
   "source": [
    "adstock_matrix =maximizer.optim_adstock_matrix"
   ]
  },
  {
   "cell_type": "code",
   "execution_count": 33,
   "metadata": {},
   "outputs": [],
   "source": [
    "from karpiu.utils import adstock_process"
   ]
  },
  {
   "cell_type": "code",
   "execution_count": 157,
   "metadata": {},
   "outputs": [],
   "source": [
    "input_spend_matrix = regressors_matrix[maximizer.calc_mask]\n",
    "input_spend_matrix[:maximizer.n_max_adstock] = 0.\n",
    "input_spend_matrix[-maximizer.n_max_adstock:] = 0.\n",
    "input_spend_matrix += maximizer.bkg_spend_matrix"
   ]
  },
  {
   "cell_type": "code",
   "execution_count": 158,
   "metadata": {},
   "outputs": [
    {
     "data": {
      "text/plain": [
       "(85, 5)"
      ]
     },
     "execution_count": 158,
     "metadata": {},
     "output_type": "execute_result"
    }
   ],
   "source": [
    "maximizer.bkg_spend_matrix.shape"
   ]
  },
  {
   "cell_type": "code",
   "execution_count": 159,
   "metadata": {},
   "outputs": [
    {
     "data": {
      "text/plain": [
       "(58, 5)"
      ]
     },
     "execution_count": 159,
     "metadata": {},
     "output_type": "execute_result"
    }
   ],
   "source": [
    "transformed_regressors_matrix = adstock_process(input_spend_matrix, adstock_matrix)\n",
    "# pad zeros\n",
    "# transformed_regressors_matrix = np.concatenate(\n",
    "#     [\n",
    "#         np.zeros((maximizer.n_max_adstock, len(optim_channels))),\n",
    "#         transformed_regressors_matrix,\n",
    "#     ], axis=0\n",
    "# )\n",
    "# transformed_regressors_matrix = transformed_regressors_matrix[maximizer.calc_mask]\n",
    "# transformed_regressors_matrix = transformed_regressors_matrix[maximizer.n_max_adstock:]\n",
    "transformed_regressors_matrix = np.log1p(transformed_regressors_matrix / maximizer.optim_sat_array)\n",
    "transformed_regressors_matrix.shape"
   ]
  },
  {
   "cell_type": "code",
   "execution_count": 160,
   "metadata": {},
   "outputs": [
    {
     "data": {
      "text/plain": [
       "array([0.39967546, 0.44539999, 0.46916297, 0.45745876, 0.44083817,\n",
       "       0.42607168, 0.43973575, 0.45187903, 0.46339098, 0.47111868,\n",
       "       0.47552148, 0.48107203, 0.4929883 , 0.48839605, 0.4855006 ,\n",
       "       0.46924156, 0.46370755, 0.46170411, 0.4434299 , 0.4587943 ,\n",
       "       0.46784095, 0.46462112, 0.47342547, 0.47698099, 0.49072939,\n",
       "       0.49310633, 0.50342412, 0.50480454, 0.51119437, 0.50660532,\n",
       "       0.49028235, 0.49199175, 0.46946566, 0.45020852, 0.4364989 ,\n",
       "       0.41804606, 0.4026799 , 0.41756263, 0.44177046, 0.46065184,\n",
       "       0.45402659, 0.44925099, 0.47034692, 0.47153391, 0.45367155,\n",
       "       0.41559209, 0.39068458, 0.39944189, 0.38388749, 0.38593701,\n",
       "       0.39366776, 0.38635584, 0.39100045, 0.40507315, 0.40603093,\n",
       "       0.38656996, 0.38074511, 0.39696346])"
      ]
     },
     "execution_count": 160,
     "metadata": {},
     "output_type": "execute_result"
    }
   ],
   "source": [
    "reg_comp = np.sum(coef_matrix * transformed_regressors_matrix, axis=-1)\n",
    "reg_comp"
   ]
  },
  {
   "cell_type": "code",
   "execution_count": 161,
   "metadata": {},
   "outputs": [
    {
     "data": {
      "text/plain": [
       "array([ 760.05420277, 1129.80326751, 1179.13508477, 1196.23657218,\n",
       "       1216.89854935, 1136.28451183, 1047.40026244, 1063.3330824 ,\n",
       "       1138.1213212 , 1166.69707834, 1205.43901802, 1258.68511927,\n",
       "       1206.4826476 , 1091.90585255, 1089.01317601, 1131.04281886,\n",
       "       1145.08066052, 1174.7073859 , 1196.24210068,  985.08716069,\n",
       "       1055.05604551, 1053.60426991, 1122.30376229, 1148.92398123,\n",
       "       1200.82181639, 1250.63601841, 1198.81831253, 1095.59411272,\n",
       "       1107.93606395, 1170.72009033, 1181.10327716, 1224.62777475,\n",
       "       1249.22495354, 1167.07835798, 1055.77848535, 1046.63151675,\n",
       "       1100.00878438, 1147.01389069, 1220.44017239, 1304.29659262,\n",
       "       1236.74704797, 1133.81403573, 1175.29897532, 1260.63443239,\n",
       "       1280.73135745, 1286.7183882 , 1317.19382526, 1746.58189828,\n",
       "       1160.2665593 , 1181.704191  , 1275.0854637 , 1304.5136084 ,\n",
       "       1366.66039005, 1455.13439369, 1398.37576015, 1266.36269892,\n",
       "       1280.01747306, 1392.65640102])"
      ]
     },
     "execution_count": 161,
     "metadata": {},
     "output_type": "execute_result"
    }
   ],
   "source": [
    "pred_comp_from_optim = np.exp(reg_comp + maximizer.base_comp)\n",
    "pred_comp_from_optim"
   ]
  },
  {
   "cell_type": "code",
   "execution_count": 128,
   "metadata": {},
   "outputs": [],
   "source": [
    "pred_df = mmm.predict(df)"
   ]
  },
  {
   "cell_type": "code",
   "execution_count": 129,
   "metadata": {},
   "outputs": [],
   "source": [
    "pred_comp = pred_df.loc[maximizer.calc_mask, \"prediction\"].values\n",
    "pred_comp = pred_comp[maximizer.n_max_adstock: ]"
   ]
  },
  {
   "cell_type": "code",
   "execution_count": 130,
   "metadata": {},
   "outputs": [
    {
     "data": {
      "text/plain": [
       "array([ 760.05420277, 1129.80326751, 1179.13508477, 1196.23657218,\n",
       "       1216.89854935, 1136.28451183, 1047.40026244, 1063.3330824 ,\n",
       "       1138.1213212 , 1166.69707834, 1205.43901802, 1258.68511927,\n",
       "       1206.4826476 , 1091.90585255, 1089.01317601, 1131.04281886,\n",
       "       1145.08066052, 1174.7073859 , 1196.24210068,  985.08716069,\n",
       "       1055.05604551, 1053.60426991, 1122.30376229, 1148.92398123,\n",
       "       1200.82181639, 1250.63601841, 1198.81831253, 1095.59411272,\n",
       "       1107.93606395, 1170.72009033, 1181.10327716, 1224.62777475,\n",
       "       1249.22495354, 1167.07835798, 1055.77848535, 1046.63151675,\n",
       "       1100.00878438, 1147.01389069, 1220.44017239, 1304.29659262,\n",
       "       1236.74704797, 1133.81403573, 1175.29897532, 1260.63443239,\n",
       "       1280.73135745, 1286.7183882 , 1317.19382526, 1746.58189828,\n",
       "       1160.2665593 , 1181.704191  , 1275.0854637 , 1304.5136084 ,\n",
       "       1366.66039005, 1455.13439369, 1398.37576015, 1266.36269892,\n",
       "       1280.01747306, 1392.65640102])"
      ]
     },
     "execution_count": 130,
     "metadata": {},
     "output_type": "execute_result"
    }
   ],
   "source": [
    "pred_comp"
   ]
  },
  {
   "cell_type": "code",
   "execution_count": 133,
   "metadata": {},
   "outputs": [],
   "source": [
    "assert np.allclose(pred_comp_from_optim, pred_comp)"
   ]
  },
  {
   "cell_type": "code",
   "execution_count": 49,
   "metadata": {},
   "outputs": [
    {
     "name": "stdout",
     "output_type": "stream",
     "text": [
      "Optimization terminated successfully    (Exit mode 0)\n",
      "            Current function value: -7391.252814647293\n",
      "            Iterations: 59\n",
      "            Function evaluations: 9068\n",
      "            Gradient evaluations: 58\n",
      "[0.00014417 0.00015811 0.0001647  0.00015878 0.00015228 0.00014699\n",
      " 0.00015176 0.00015507 0.0001585  0.00016228 0.00016488 0.00016841\n",
      " 0.00017296 0.00017015 0.00016921 0.00016514 0.0001639  0.00016399\n",
      " 0.00015834 0.0001645  0.00016812 0.00016738 0.00016948 0.00016885\n",
      " 0.00017407 0.0001755  0.00017799 0.00017692 0.00017827 0.00017699\n",
      " 0.0001708  0.0001707  0.00016266 0.00015685 0.00015265 0.00014737\n",
      " 0.00014367 0.00015016 0.00015776 0.00016339 0.00015973 0.00015678\n",
      " 0.00016393 0.000165   0.00015845 0.00014452 0.00013521 0.00013859\n",
      " 0.00013177 0.0001314  0.00013484 0.00013394 0.00013583 0.00014072\n",
      " 0.00014186 0.00013624 0.00013292 0.00013694]\n",
      "[0.00016865 0.00022239 0.00023499 0.00024109 0.00023684 0.00022453\n",
      " 0.00020916 0.00020534 0.00020822 0.00021084 0.00021918 0.00022248\n",
      " 0.00021474 0.00020013 0.00018895 0.00019515 0.00019478 0.00020183\n",
      " 0.0001989  0.00017953 0.00017438 0.00017029 0.00017729 0.0001827\n",
      " 0.00020227 0.00020764 0.00019288 0.00017712 0.00016707 0.00015258\n",
      " 0.00021843 0.00024138 0.00026533 0.00027133 0.00027064 0.00026654\n",
      " 0.00023379 0.00021712 0.00021105 0.00020929 0.00020094 0.00019369\n",
      " 0.00019649 0.00019357 0.00018472 0.00016975 0.00015904 0.00016182\n",
      " 0.00015352 0.00015175 0.00015273 0.0001488  0.00014956 0.00015322\n",
      " 0.00015309 0.00014659 0.00014307 0.00014675]\n"
     ]
    }
   ],
   "source": [
    "maximizer = TargetMaximizer(\n",
    "    model=mmm,\n",
    "    budget_start=budget_start,\n",
    "    budget_end=budget_end,\n",
    "    optim_channel=optim_channels,\n",
    ")\n",
    "optim_spend_df = maximizer.optimize(maxiter=1000, eps=1e-3)\n",
    "\n",
    "optim_spend_matrix = maximizer.get_current_state()\n",
    "init_spend_matrix = maximizer.get_init_state()\n",
    "# always spend all budget in target maximization; assure the total preserves\n",
    "assert np.allclose(np.sum(optim_spend_matrix), np.sum(init_spend_matrix))\n",
    "\n",
    "cost_report = generate_cost_report(\n",
    "    model=mmm,\n",
    "    channels=optim_channels,\n",
    "    start=budget_start,\n",
    "    end=budget_end,\n",
    "    pre_spend_df=df,\n",
    "    post_spend_df=optim_spend_df,\n",
    ")\n",
    "\n",
    "pre_ac = cost_report[\"pre-opt-avg-cost\"].values\n",
    "pre_mc = cost_report[\"pre-opt-marginal-cost\"].values\n",
    "post_ac = cost_report[\"post-opt-avg-cost\"].values\n",
    "post_mc = cost_report[\"post-opt-marginal-cost\"].values"
   ]
  },
  {
   "cell_type": "code",
   "execution_count": 47,
   "metadata": {},
   "outputs": [
    {
     "data": {
      "text/plain": [
       "array([ 509.64494331,  723.71582317,  737.57922346,  757.08607777,\n",
       "        783.07036662,  742.07279347,  674.7421918 ,  676.73830111,\n",
       "        716.04516318,  728.37304826,  749.25368942,  778.01893662,\n",
       "        736.91768709,  670.00413736,  670.16678837,  707.44067312,\n",
       "        720.19557767,  740.31091394,  767.78553087,  622.61965612,\n",
       "        660.83766491,  662.05662044,  699.04373619,  713.08464434,\n",
       "        735.11875531,  763.79634577,  724.63457481,  661.32640624,\n",
       "        664.51655221,  705.4027943 ,  723.37076849,  748.74649918,\n",
       "        781.18573451,  744.00685728,  682.34457814,  689.03092153,\n",
       "        735.3845377 ,  755.48097543,  784.61755848,  822.84457264,\n",
       "        785.41580974,  723.4934461 ,  734.30973211,  786.69174066,\n",
       "        813.63756848,  849.16905223,  891.20482059, 1171.4224615 ,\n",
       "        790.38294087,  803.33828123,  860.14478278,  886.4544049 ,\n",
       "        924.3815549 ,  970.46990521,  931.7231718 ,  860.34553098,\n",
       "        874.70256082,  936.36449808])"
      ]
     },
     "execution_count": 47,
     "metadata": {},
     "output_type": "execute_result"
    }
   ],
   "source": [
    "np.exp(maximizer.base_comp)"
   ]
  },
  {
   "cell_type": "code",
   "execution_count": 48,
   "metadata": {},
   "outputs": [
    {
     "name": "stdout",
     "output_type": "stream",
     "text": [
      "[0.00014417 0.00015811 0.0001647  0.00015878 0.00015228 0.00014699\n",
      " 0.00015176 0.00015507 0.0001585  0.00016228 0.00016488 0.00016841\n",
      " 0.00017296 0.00017015 0.00016921 0.00016514 0.0001639  0.00016399\n",
      " 0.00015834 0.0001645  0.00016812 0.00016738 0.00016948 0.00016885\n",
      " 0.00017407 0.0001755  0.00017799 0.00017692 0.00017827 0.00017699\n",
      " 0.0001708  0.0001707  0.00016266 0.00015685 0.00015265 0.00014737\n",
      " 0.00014367 0.00015016 0.00015776 0.00016339 0.00015973 0.00015678\n",
      " 0.00016393 0.000165   0.00015845 0.00014452 0.00013521 0.00013859\n",
      " 0.00013177 0.0001314  0.00013484 0.00013394 0.00013583 0.00014072\n",
      " 0.00014186 0.00013624 0.00013292 0.00013694]\n",
      "[0.00016865 0.00022239 0.00023499 0.00024109 0.00023684 0.00022453\n",
      " 0.00020916 0.00020534 0.00020822 0.00021084 0.00021918 0.00022248\n",
      " 0.00021474 0.00020013 0.00018895 0.00019515 0.00019478 0.00020183\n",
      " 0.0001989  0.00017953 0.00017438 0.00017029 0.00017729 0.0001827\n",
      " 0.00020227 0.00020764 0.00019288 0.00017712 0.00016707 0.00015258\n",
      " 0.00021843 0.00024138 0.00026533 0.00027133 0.00027064 0.00026654\n",
      " 0.00023379 0.00021712 0.00021105 0.00020929 0.00020094 0.00019369\n",
      " 0.00019649 0.00019357 0.00018472 0.00016975 0.00015904 0.00016182\n",
      " 0.00015352 0.00015175 0.00015273 0.0001488  0.00014956 0.00015322\n",
      " 0.00015309 0.00014659 0.00014307 0.00014675]\n"
     ]
    }
   ],
   "source": [
    "cost_report = generate_cost_report(\n",
    "    model=mmm,\n",
    "    channels=optim_channels,\n",
    "    start=budget_start,\n",
    "    end=budget_end,\n",
    "    pre_spend_df=df,\n",
    "    post_spend_df=optim_spend_df,\n",
    ")\n",
    "\n",
    "pre_ac = cost_report[\"pre-opt-avg-cost\"].values\n",
    "pre_mc = cost_report[\"pre-opt-marginal-cost\"].values\n",
    "post_ac = cost_report[\"post-opt-avg-cost\"].values\n",
    "post_mc = cost_report[\"post-opt-marginal-cost\"].values"
   ]
  },
  {
   "cell_type": "code",
   "execution_count": 43,
   "metadata": {},
   "outputs": [
    {
     "data": {
      "text/html": [
       "<div>\n",
       "<style scoped>\n",
       "    .dataframe tbody tr th:only-of-type {\n",
       "        vertical-align: middle;\n",
       "    }\n",
       "\n",
       "    .dataframe tbody tr th {\n",
       "        vertical-align: top;\n",
       "    }\n",
       "\n",
       "    .dataframe thead th {\n",
       "        text-align: right;\n",
       "    }\n",
       "</style>\n",
       "<table border=\"1\" class=\"dataframe\">\n",
       "  <thead>\n",
       "    <tr style=\"text-align: right;\">\n",
       "      <th></th>\n",
       "      <th>pre-opt-avg-cost</th>\n",
       "      <th>post-opt-avg-cost</th>\n",
       "      <th>pre-opt-marginal-cost</th>\n",
       "      <th>post-opt-marginal-cost</th>\n",
       "      <th>pre-opt-spend</th>\n",
       "      <th>post-opt-spend</th>\n",
       "    </tr>\n",
       "  </thead>\n",
       "  <tbody>\n",
       "    <tr>\n",
       "      <th>promo</th>\n",
       "      <td>72.16317</td>\n",
       "      <td>54.56168</td>\n",
       "      <td>469152.94490</td>\n",
       "      <td>360598.24124</td>\n",
       "      <td>55.32300</td>\n",
       "      <td>0.00000</td>\n",
       "    </tr>\n",
       "    <tr>\n",
       "      <th>radio</th>\n",
       "      <td>54.97775</td>\n",
       "      <td>34.85148</td>\n",
       "      <td>260812.60522</td>\n",
       "      <td>182432.16835</td>\n",
       "      <td>123.91600</td>\n",
       "      <td>50.65682</td>\n",
       "    </tr>\n",
       "    <tr>\n",
       "      <th>search</th>\n",
       "      <td>23.99325</td>\n",
       "      <td>33.13144</td>\n",
       "      <td>104672.58027</td>\n",
       "      <td>162988.80400</td>\n",
       "      <td>94.99100</td>\n",
       "      <td>225.34506</td>\n",
       "    </tr>\n",
       "    <tr>\n",
       "      <th>social</th>\n",
       "      <td>22.13891</td>\n",
       "      <td>33.65296</td>\n",
       "      <td>88687.92503</td>\n",
       "      <td>149651.66410</td>\n",
       "      <td>70.18200</td>\n",
       "      <td>251.82098</td>\n",
       "    </tr>\n",
       "    <tr>\n",
       "      <th>tv</th>\n",
       "      <td>75.16130</td>\n",
       "      <td>37.46793</td>\n",
       "      <td>626517.05625</td>\n",
       "      <td>320772.02676</td>\n",
       "      <td>185.88400</td>\n",
       "      <td>2.47315</td>\n",
       "    </tr>\n",
       "  </tbody>\n",
       "</table>\n",
       "</div>"
      ],
      "text/plain": [
       "        pre-opt-avg-cost  post-opt-avg-cost  pre-opt-marginal-cost  \\\n",
       "promo           72.16317           54.56168           469152.94490   \n",
       "radio           54.97775           34.85148           260812.60522   \n",
       "search          23.99325           33.13144           104672.58027   \n",
       "social          22.13891           33.65296            88687.92503   \n",
       "tv              75.16130           37.46793           626517.05625   \n",
       "\n",
       "        post-opt-marginal-cost  pre-opt-spend  post-opt-spend  \n",
       "promo             360598.24124       55.32300         0.00000  \n",
       "radio             182432.16835      123.91600        50.65682  \n",
       "search            162988.80400       94.99100       225.34506  \n",
       "social            149651.66410       70.18200       251.82098  \n",
       "tv                320772.02676      185.88400         2.47315  "
      ]
     },
     "execution_count": 43,
     "metadata": {},
     "output_type": "execute_result"
    }
   ],
   "source": [
    "cost_report"
   ]
  },
  {
   "cell_type": "code",
   "execution_count": 34,
   "metadata": {},
   "outputs": [],
   "source": [
    "df = maximizer.get_df()\n",
    "date_col = \"date\"\n",
    "spend_start = maximizer.budget_start\n",
    "spend_end = maximizer.budget_end\n",
    "max_adstock = maximizer.n_max_adstock\n",
    "\n",
    "mea_start = spend_start\n",
    "mea_end = spend_end + pd.Timedelta(days=max_adstock)\n",
    "calc_start = spend_start - pd.Timedelta(days=max_adstock)\n",
    "calc_end = spend_end + pd.Timedelta(days=max_adstock)\n",
    "\n",
    "spend_mask = (df[date_col] >= spend_start) & (df[date_col] <= spend_end)\n",
    "mea_mask = (df[date_col] >= mea_start) & (df[date_col] <= mea_end)\n",
    "calc_mask = (df[date_col] >= calc_start) & (df[date_col] <= calc_end)"
   ]
  },
  {
   "cell_type": "code",
   "execution_count": 35,
   "metadata": {},
   "outputs": [
    {
     "ename": "NameError",
     "evalue": "name 'regressors_matrix' is not defined",
     "output_type": "error",
     "traceback": [
      "\u001b[0;31m---------------------------------------------------------------------------\u001b[0m",
      "\u001b[0;31mNameError\u001b[0m                                 Traceback (most recent call last)",
      "Cell \u001b[0;32mIn[35], line 1\u001b[0m\n\u001b[0;32m----> 1\u001b[0m transformed_regressors_matrix \u001b[38;5;241m=\u001b[39m adstock_process(\u001b[43mregressors_matrix\u001b[49m, adstock_matrix)\n\u001b[1;32m      2\u001b[0m \u001b[38;5;66;03m# pad zeros\u001b[39;00m\n\u001b[1;32m      3\u001b[0m transformed_regressors_matrix \u001b[38;5;241m=\u001b[39m np\u001b[38;5;241m.\u001b[39mconcatenate(\n\u001b[1;32m      4\u001b[0m     [\n\u001b[1;32m      5\u001b[0m         np\u001b[38;5;241m.\u001b[39mzeros((maximizer\u001b[38;5;241m.\u001b[39mn_max_adstock, \u001b[38;5;28mlen\u001b[39m(optim_channels))),\n\u001b[1;32m      6\u001b[0m         transformed_regressors_matrix,\n\u001b[1;32m      7\u001b[0m     ], axis\u001b[38;5;241m=\u001b[39m\u001b[38;5;241m0\u001b[39m\n\u001b[1;32m      8\u001b[0m )\n",
      "\u001b[0;31mNameError\u001b[0m: name 'regressors_matrix' is not defined"
     ]
    }
   ],
   "source": [
    "transformed_regressors_matrix = adstock_process(regressors_matrix, adstock_matrix)\n",
    "# pad zeros\n",
    "transformed_regressors_matrix = np.concatenate(\n",
    "    [\n",
    "        np.zeros((maximizer.n_max_adstock, len(optim_channels))),\n",
    "        transformed_regressors_matrix,\n",
    "    ], axis=0\n",
    ")\n",
    "transformed_regressors_matrix = transformed_regressors_matrix[maximizer.calc_mask]\n",
    "transformed_regressors_matrix = transformed_regressors_matrix[maximizer.n_max_adstock:]\n",
    "transformed_regressors_matrix = np.log1p(transformed_regressors_matrix / maximizer.optim_sat_array)"
   ]
  },
  {
   "cell_type": "code",
   "execution_count": null,
   "metadata": {},
   "outputs": [],
   "source": [
    "pred_comp_from_optim = np.exp(reg_comp + maximizer.base_comp)"
   ]
  },
  {
   "cell_type": "code",
   "execution_count": 37,
   "metadata": {},
   "outputs": [],
   "source": [
    "from copy import deepcopy"
   ]
  },
  {
   "cell_type": "code",
   "execution_count": 38,
   "metadata": {},
   "outputs": [],
   "source": [
    "# define the baseline parameters\n",
    "\n",
    "coef_matrix = maximizer.optim_coef_matrix\n",
    "adstock_matrix =maximizer.optim_adstock_matrix\n",
    "input_spend_matrix = df.loc[maximizer.calc_mask, channels].values\n",
    "# input_spend_matrix = input_spend_matrix[maximizer.n_max_adstock:]\n",
    "# input_spend_matrix = input_spend_matrix[:-maximizer.n_max_adstock]\n",
    "input_spend_base_matrix = deepcopy(input_spend_matrix)"
   ]
  },
  {
   "cell_type": "code",
   "execution_count": 39,
   "metadata": {},
   "outputs": [],
   "source": [
    "# adstock, log1p, saturation\n",
    "transformed_regressors_matrix = adstock_process(input_spend_base_matrix, adstock_matrix)\n",
    "transformed_regressors_matrix = np.log1p(transformed_regressors_matrix / maximizer.optim_sat_array)\n",
    "\n",
    "reg_comp = np.sum(coef_matrix * transformed_regressors_matrix, axis=-1)\n",
    "# from maximizer parameters\n",
    "base_pred_comp = np.exp(reg_comp + maximizer.base_comp)"
   ]
  },
  {
   "cell_type": "code",
   "execution_count": 40,
   "metadata": {},
   "outputs": [],
   "source": [
    "marginal_cost = np.empty(len(channels))\n",
    "for idx, ch in enumerate(channels):\n",
    "    delta = 1e-1\n",
    "\n",
    "    delta_matrix = np.zeros_like(input_spend_matrix)\n",
    "    delta_matrix[max_adstock:-max_adstock, idx] = delta\n",
    "    new_spend_matrix = input_spend_base_matrix + delta_matrix\n",
    "\n",
    "    # adstock, log1p, saturation\n",
    "    transformed_regressors_matrix = adstock_process(new_spend_matrix, adstock_matrix)\n",
    "    transformed_regressors_matrix = np.log1p(transformed_regressors_matrix / maximizer.optim_sat_array)\n",
    "\n",
    "    reg_comp = np.sum(coef_matrix * transformed_regressors_matrix, axis=-1)\n",
    "    # from maximizer parameters\n",
    "    delta_pred_comp_from = np.exp(reg_comp + maximizer.base_comp)\n",
    "    marginal_cost[idx] = np.sum(delta_matrix) / np.sum(delta_pred_comp_from - base_pred_comp)"
   ]
  },
  {
   "cell_type": "code",
   "execution_count": 41,
   "metadata": {},
   "outputs": [
    {
     "data": {
      "text/plain": [
       "array([76.79698879, 57.34654461, 25.49489206, 23.51090423, 80.4790226 ])"
      ]
     },
     "execution_count": 41,
     "metadata": {},
     "output_type": "execute_result"
    }
   ],
   "source": [
    "marginal_cost"
   ]
  },
  {
   "cell_type": "code",
   "execution_count": 179,
   "metadata": {},
   "outputs": [
    {
     "data": {
      "text/plain": [
       "['promo', 'radio', 'search', 'social', 'tv']"
      ]
     },
     "execution_count": 179,
     "metadata": {},
     "output_type": "execute_result"
    }
   ],
   "source": [
    "channels"
   ]
  },
  {
   "cell_type": "code",
   "execution_count": 180,
   "metadata": {},
   "outputs": [
    {
     "data": {
      "text/plain": [
       "array([3854.4 , 2838.75, 2564.72, 2364.44, 4862.4 ])"
      ]
     },
     "execution_count": 180,
     "metadata": {},
     "output_type": "execute_result"
    }
   ],
   "source": [
    "mmm.get_saturation_vector(regressors=channels)"
   ]
  },
  {
   "cell_type": "code",
   "execution_count": 44,
   "metadata": {},
   "outputs": [
    {
     "data": {
      "text/plain": [
       "array([ 760.05420277, 1129.80326751, 1179.13508477, 1196.23657218,\n",
       "       1216.89854935, 1136.28451183, 1047.40026244, 1063.3330824 ,\n",
       "       1138.1213212 , 1166.69707834, 1205.43901802, 1258.68511927,\n",
       "       1206.4826476 , 1091.90585255, 1089.01317601, 1131.04281886,\n",
       "       1145.08066052, 1174.7073859 , 1196.24210068,  985.08716069,\n",
       "       1055.05604551, 1053.60426991, 1122.30376229, 1148.92398123,\n",
       "       1200.82181639, 1250.63601841, 1198.81831253, 1095.59411272,\n",
       "       1107.93606395, 1170.72009033, 1181.10327716, 1224.62777475,\n",
       "       1249.22495354, 1167.07835798, 1055.77848535, 1046.63151675,\n",
       "       1100.00878438, 1147.01389069, 1220.44017239, 1304.29659262,\n",
       "       1236.74704797, 1133.81403573, 1175.29897532, 1260.63443239,\n",
       "       1280.73135745, 1286.7183882 , 1317.19382526, 1746.58189828,\n",
       "       1160.2665593 , 1181.704191  , 1275.0854637 , 1304.5136084 ,\n",
       "       1366.66039005, 1455.13439369, 1398.37576015, 1266.36269892,\n",
       "       1280.01747306, 1392.65640102])"
      ]
     },
     "execution_count": 44,
     "metadata": {},
     "output_type": "execute_result"
    }
   ],
   "source": [
    "base_pred_comp"
   ]
  },
  {
   "cell_type": "code",
   "execution_count": 66,
   "metadata": {},
   "outputs": [],
   "source": [
    "# adstock, log1p, saturation\n",
    "transformed_regressors_matrix = adstock_process(input_spend_base_matrix, adstock_matrix)\n",
    "transformed_regressors_matrix = np.log1p(transformed_regressors_matrix / maximizer.optim_sat_array)\n",
    "\n",
    "reg_comp = np.sum(coef_matrix * transformed_regressors_matrix, axis=-1)"
   ]
  },
  {
   "cell_type": "code",
   "execution_count": 78,
   "metadata": {},
   "outputs": [
    {
     "data": {
      "text/plain": [
       "array([[0.00008744, 0.00025358, 0.00026628, 0.00028744, 0.00009952],\n",
       "       [0.00009208, 0.00029123, 0.00029903, 0.00028565, 0.00013245],\n",
       "       [0.00009385, 0.00030753, 0.00030787, 0.00028756, 0.00015697],\n",
       "       [0.00009511, 0.00032072, 0.00027509, 0.00027528, 0.00016702],\n",
       "       [0.00009527, 0.00033627, 0.00023993, 0.00026933, 0.0001647 ],\n",
       "       [0.0000958 , 0.00033927, 0.00022709, 0.00025576, 0.00015766],\n",
       "       [0.00009242, 0.00036111, 0.00024219, 0.00025203, 0.00016141],\n",
       "       [0.00009243, 0.00038296, 0.00024527, 0.00024745, 0.00017251],\n",
       "       [0.00009194, 0.00038279, 0.00025295, 0.00025161, 0.0001838 ],\n",
       "       [0.00009194, 0.00036028, 0.00028165, 0.00025758, 0.00017939],\n",
       "       [0.00009209, 0.00033185, 0.000315  , 0.00025593, 0.00017345],\n",
       "       [0.00009269, 0.00034325, 0.0003302 , 0.0002615 , 0.00015913],\n",
       "       [0.00009256, 0.00035818, 0.00034263, 0.00026504, 0.00015898],\n",
       "       [0.00009271, 0.00035344, 0.00032061, 0.00026912, 0.00017015],\n",
       "       [0.00009402, 0.00034685, 0.00031791, 0.00027105, 0.00016885],\n",
       "       [0.00009501, 0.00032439, 0.00032032, 0.00027113, 0.00014842],\n",
       "       [0.00009536, 0.00031955, 0.00031984, 0.00027267, 0.00014001],\n",
       "       [0.00009543, 0.00031507, 0.00032173, 0.0002786 , 0.00013254],\n",
       "       [0.00009546, 0.00033505, 0.00029215, 0.00027816, 0.00011562],\n",
       "       [0.00009655, 0.00034311, 0.00031228, 0.00028711, 0.00011387],\n",
       "       [0.00009872, 0.00034751, 0.00032344, 0.00029297, 0.00011254],\n",
       "       [0.00010013, 0.00031888, 0.0003235 , 0.00030573, 0.00011185],\n",
       "       [0.00010081, 0.00030593, 0.00032203, 0.00031675, 0.00012779],\n",
       "       [0.00009745, 0.00028255, 0.00032087, 0.00031434, 0.00015126],\n",
       "       [0.00009666, 0.00029347, 0.00034342, 0.00031284, 0.00015143],\n",
       "       [0.00009784, 0.00029605, 0.0003554 , 0.00030956, 0.00014537],\n",
       "       [0.00010028, 0.00030343, 0.00035898, 0.00030608, 0.00015859],\n",
       "       [0.00009808, 0.00028017, 0.00035882, 0.00030258, 0.0001774 ],\n",
       "       [0.00009764, 0.00027614, 0.00035842, 0.00030545, 0.0001897 ],\n",
       "       [0.00009664, 0.00025959, 0.00035979, 0.00030847, 0.00018714],\n",
       "       [0.00009714, 0.00025824, 0.00033153, 0.00030631, 0.00018517],\n",
       "       [0.00009859, 0.00027766, 0.00032625, 0.00029703, 0.00018899],\n",
       "       [0.00009836, 0.00028272, 0.00029232, 0.0002914 , 0.00018029],\n",
       "       [0.00009686, 0.00025787, 0.0002813 , 0.00029425, 0.00016696],\n",
       "       [0.00009929, 0.00023247, 0.0002743 , 0.00029792, 0.0001581 ],\n",
       "       [0.00009876, 0.00019492, 0.00026711, 0.00030684, 0.00014463],\n",
       "       [0.00009717, 0.00020358, 0.00025292, 0.00031148, 0.00012197],\n",
       "       [0.000097  , 0.00023637, 0.00026617, 0.00032063, 0.00011269],\n",
       "       [0.00009649, 0.00024608, 0.00029129, 0.00031947, 0.00012997],\n",
       "       [0.00009306, 0.0002713 , 0.00030907, 0.00030904, 0.00014406],\n",
       "       [0.00009588, 0.00028517, 0.00028507, 0.00030077, 0.00015134],\n",
       "       [0.00009307, 0.00029053, 0.00025802, 0.0003044 , 0.00016295],\n",
       "       [0.00009194, 0.00029213, 0.00027587, 0.00031703, 0.0001755 ],\n",
       "       [0.00009278, 0.00030003, 0.00027851, 0.00031969, 0.00016865],\n",
       "       [0.00009074, 0.00031276, 0.00024156, 0.00031961, 0.00016377],\n",
       "       [0.00009122, 0.00030557, 0.00019504, 0.00030246, 0.00015298],\n",
       "       [0.0000937 , 0.00028137, 0.00017504, 0.00028726, 0.00014892],\n",
       "       [0.00009355, 0.00029983, 0.00020466, 0.00026554, 0.00014427],\n",
       "       [0.00008944, 0.0003043 , 0.00017503, 0.00025379, 0.00015103],\n",
       "       [0.00008583, 0.00030231, 0.00017016, 0.00025135, 0.00016372],\n",
       "       [0.00008499, 0.00029129, 0.00019942, 0.00024742, 0.00016038],\n",
       "       [0.00008752, 0.00028631, 0.00020143, 0.00025418, 0.00014164],\n",
       "       [0.00008823, 0.00029468, 0.00020484, 0.000257  , 0.0001401 ],\n",
       "       [0.00009018, 0.00028191, 0.00022151, 0.00026817, 0.00014835],\n",
       "       [0.00009137, 0.00028794, 0.00021592, 0.00028148, 0.00014148],\n",
       "       [0.0000897 , 0.00031459, 0.00018575, 0.00028176, 0.00011953],\n",
       "       [0.00008989, 0.00030141, 0.00017909, 0.00027117, 0.00012988],\n",
       "       [0.00008872, 0.00029748, 0.00019645, 0.00026294, 0.00015256]])"
      ]
     },
     "execution_count": 78,
     "metadata": {},
     "output_type": "execute_result"
    }
   ],
   "source": [
    "np.log1p(transformed_regressors_matrix / maximizer.optim_sat_array)"
   ]
  },
  {
   "cell_type": "code",
   "execution_count": 67,
   "metadata": {},
   "outputs": [
    {
     "data": {
      "text/plain": [
       "array([[0.33706134, 0.71993071, 0.68302954, 0.67972881, 0.48390589],\n",
       "       [0.35493149, 0.82685507, 0.76704186, 0.6755015 , 0.64406286],\n",
       "       [0.36174112, 0.87314294, 0.78973036, 0.68001471, 0.76329504],\n",
       "       [0.36660122, 0.91059976, 0.70563167, 0.65098261, 0.81217192],\n",
       "       [0.36722716, 0.95474852, 0.6154283 , 0.63690384, 0.8008976 ],\n",
       "       [0.36927131, 0.96327456, 0.58249974, 0.60481692, 0.76664806],\n",
       "       [0.35624749, 1.02527723, 0.62122815, 0.5959763 , 0.78492236],\n",
       "       [0.35628541, 1.08734612, 0.62913709, 0.58515454, 0.83887252],\n",
       "       [0.35437596, 1.08686695, 0.64882312, 0.59499688, 0.89379608],\n",
       "       [0.35440508, 1.0229422 , 0.72244786, 0.60910047, 0.87234101],\n",
       "       [0.3549719 , 0.94220553, 0.80800259, 0.60520818, 0.84345682],\n",
       "       [0.35729309, 0.97457919, 0.84700563, 0.61838816, 0.7738366 ],\n",
       "       [0.35678884, 1.01697554, 0.87888837, 0.62675043, 0.77310012],\n",
       "       [0.3573559 , 1.00349282, 0.82240299, 0.63639582, 0.82741351],\n",
       "       [0.36239049, 0.98477995, 0.81546864, 0.64096754, 0.8210721 ],\n",
       "       [0.3662403 , 0.92102025, 0.82166582, 0.64115135, 0.72171048],\n",
       "       [0.36757889, 0.90725954, 0.82042452, 0.6448099 , 0.68081635],\n",
       "       [0.36785142, 0.89454621, 0.82528061, 0.65883108, 0.64451679],\n",
       "       [0.36795083, 0.95128124, 0.74939238, 0.65778564, 0.56224309],\n",
       "       [0.37215994, 0.97416703, 0.80102942, 0.67895773, 0.55370128],\n",
       "       [0.38052356, 0.98665363, 0.82965771, 0.69281862, 0.54726841],\n",
       "       [0.38594649, 0.90535654, 0.82982483, 0.72298225, 0.54390799],\n",
       "       [0.38857395, 0.86858689, 0.82605317, 0.74904815, 0.62140831],\n",
       "       [0.37563453, 0.80221317, 0.82308004, 0.74335905, 0.73552164],\n",
       "       [0.37259135, 0.83320932, 0.88093427, 0.73980948, 0.73634886],\n",
       "       [0.37712918, 0.84052369, 0.91166337, 0.73205614, 0.70691918],\n",
       "       [0.38654626, 0.86150344, 0.92084523, 0.72381498, 0.77117418],\n",
       "       [0.3780707 , 0.79543367, 0.9204334 , 0.71553882, 0.86266906],\n",
       "       [0.37636374, 0.78401239, 0.91941972, 0.72233001, 0.92249067],\n",
       "       [0.37249856, 0.73699759, 0.92291591, 0.72946296, 0.91005534],\n",
       "       [0.37442745, 0.73317709, 0.85043412, 0.72436625, 0.90045442],\n",
       "       [0.38003672, 0.7883122 , 0.83686966, 0.7024071 , 0.9190228 ],\n",
       "       [0.37912037, 0.80268915, 0.74982691, 0.68909558, 0.87673602],\n",
       "       [0.37335999, 0.73213252, 0.72156446, 0.69583184, 0.81190599],\n",
       "       [0.38272409, 0.65999971, 0.70360439, 0.70452109, 0.76880388],\n",
       "       [0.38066056, 0.55338986, 0.68515308, 0.72562068, 0.70327789],\n",
       "       [0.37453903, 0.57796097, 0.64876181, 0.73658736, 0.59308166],\n",
       "       [0.373879  , 0.67107387, 0.68275481, 0.75822337, 0.54795289],\n",
       "       [0.37194094, 0.69865602, 0.74718432, 0.75548074, 0.6320166 ],\n",
       "       [0.35871917, 0.77026286, 0.79280089, 0.73081472, 0.70050441],\n",
       "       [0.36958461, 0.80963599, 0.73123772, 0.71125591, 0.73593379],\n",
       "       [0.35873108, 0.82487041, 0.66184521, 0.71985089, 0.79240179],\n",
       "       [0.35439988, 0.82940205, 0.70762955, 0.74972233, 0.85344376],\n",
       "       [0.357614  , 0.85183911, 0.71439942, 0.75601732, 0.82009514],\n",
       "       [0.34978035, 0.88797723, 0.61960284, 0.75582697, 0.79639703],\n",
       "       [0.3516095 , 0.86757406, 0.5002814 , 0.71525458, 0.74389943],\n",
       "       [0.36116959, 0.79886299, 0.44896641, 0.67931334, 0.72418514],\n",
       "       [0.36059439, 0.85125745, 0.52493858, 0.62794123, 0.70153639],\n",
       "       [0.34474145, 0.86396778, 0.44892995, 0.60014194, 0.73441992],\n",
       "       [0.33084254, 0.85830329, 0.4364457 , 0.59438282, 0.79614909],\n",
       "       [0.32759581, 0.82701274, 0.51150837, 0.58508808, 0.77991474],\n",
       "       [0.33735211, 0.81287199, 0.51665543, 0.60108055, 0.68878043],\n",
       "       [0.34009326, 0.83665888, 0.52541834, 0.6077351 , 0.68129152],\n",
       "       [0.34761507, 0.80038727, 0.56816266, 0.63416673, 0.7213741 ],\n",
       "       [0.35219379, 0.81749505, 0.55384275, 0.66563991, 0.68797396],\n",
       "       [0.34574307, 0.89317745, 0.4764451 , 0.66629947, 0.58121701],\n",
       "       [0.34650086, 0.85576416, 0.45935973, 0.64125349, 0.63158622],\n",
       "       [0.34199224, 0.84460167, 0.50388217, 0.62178814, 0.74184982]])"
      ]
     },
     "execution_count": 67,
     "metadata": {},
     "output_type": "execute_result"
    }
   ],
   "source": [
    "transformed_regressors_matrix"
   ]
  },
  {
   "cell_type": "code",
   "execution_count": 82,
   "metadata": {},
   "outputs": [
    {
     "data": {
      "text/html": [
       "<div>\n",
       "<style scoped>\n",
       "    .dataframe tbody tr th:only-of-type {\n",
       "        vertical-align: middle;\n",
       "    }\n",
       "\n",
       "    .dataframe tbody tr th {\n",
       "        vertical-align: top;\n",
       "    }\n",
       "\n",
       "    .dataframe thead th {\n",
       "        text-align: right;\n",
       "    }\n",
       "</style>\n",
       "<table border=\"1\" class=\"dataframe\">\n",
       "  <thead>\n",
       "    <tr style=\"text-align: right;\">\n",
       "      <th></th>\n",
       "      <th>marginal_cost</th>\n",
       "    </tr>\n",
       "    <tr>\n",
       "      <th>regressor</th>\n",
       "      <th></th>\n",
       "    </tr>\n",
       "  </thead>\n",
       "  <tbody>\n",
       "    <tr>\n",
       "      <th>promo</th>\n",
       "      <td>76.79699</td>\n",
       "    </tr>\n",
       "    <tr>\n",
       "      <th>radio</th>\n",
       "      <td>57.34654</td>\n",
       "    </tr>\n",
       "    <tr>\n",
       "      <th>search</th>\n",
       "      <td>25.49489</td>\n",
       "    </tr>\n",
       "    <tr>\n",
       "      <th>social</th>\n",
       "      <td>23.51090</td>\n",
       "    </tr>\n",
       "    <tr>\n",
       "      <th>tv</th>\n",
       "      <td>80.47902</td>\n",
       "    </tr>\n",
       "  </tbody>\n",
       "</table>\n",
       "</div>"
      ],
      "text/plain": [
       "           marginal_cost\n",
       "regressor               \n",
       "promo           76.79699\n",
       "radio           57.34654\n",
       "search          25.49489\n",
       "social          23.51090\n",
       "tv              80.47902"
      ]
     },
     "execution_count": 82,
     "metadata": {},
     "output_type": "execute_result"
    }
   ],
   "source": [
    "calculate_marginal_cost(\n",
    "    mmm,\n",
    "    channels=channels,\n",
    "    spend_start=budget_start,\n",
    "    spend_end=budget_end,\n",
    "    spend_df=df,\n",
    ")"
   ]
  },
  {
   "cell_type": "code",
   "execution_count": 83,
   "metadata": {},
   "outputs": [],
   "source": [
    "cost_report = generate_cost_report(\n",
    "    model=mmm,\n",
    "    channels=optim_channels,\n",
    "    start=budget_start,\n",
    "    end=budget_end,\n",
    "    pre_spend_df=df,\n",
    "    post_spend_df=optim_spend_df,\n",
    ")\n",
    "\n",
    "pre_ac = cost_report[\"pre-opt-avg-cost\"].values\n",
    "pre_mc = cost_report[\"pre-opt-marginal-cost\"].values\n",
    "post_ac = cost_report[\"post-opt-avg-cost\"].values\n",
    "post_mc = cost_report[\"post-opt-marginal-cost\"].values"
   ]
  },
  {
   "cell_type": "code",
   "execution_count": 70,
   "metadata": {},
   "outputs": [
    {
     "data": {
      "text/plain": [
       "array([3854.4 , 2838.75, 2564.72, 2364.44, 4862.4 ])"
      ]
     },
     "execution_count": 70,
     "metadata": {},
     "output_type": "execute_result"
    }
   ],
   "source": [
    "maximizer.optim_sat_array"
   ]
  },
  {
   "cell_type": "code",
   "execution_count": 71,
   "metadata": {},
   "outputs": [
    {
     "data": {
      "text/plain": [
       "array([3854.4 , 2838.75, 2564.72, 2364.44, 4862.4 ])"
      ]
     },
     "execution_count": 71,
     "metadata": {},
     "output_type": "execute_result"
    }
   ],
   "source": [
    "mmm.get_saturation_vector(regressors=channels)"
   ]
  },
  {
   "cell_type": "code",
   "execution_count": 84,
   "metadata": {},
   "outputs": [
    {
     "data": {
      "text/html": [
       "<div>\n",
       "<style scoped>\n",
       "    .dataframe tbody tr th:only-of-type {\n",
       "        vertical-align: middle;\n",
       "    }\n",
       "\n",
       "    .dataframe tbody tr th {\n",
       "        vertical-align: top;\n",
       "    }\n",
       "\n",
       "    .dataframe thead th {\n",
       "        text-align: right;\n",
       "    }\n",
       "</style>\n",
       "<table border=\"1\" class=\"dataframe\">\n",
       "  <thead>\n",
       "    <tr style=\"text-align: right;\">\n",
       "      <th></th>\n",
       "      <th>pre-opt-avg-cost</th>\n",
       "      <th>post-opt-avg-cost</th>\n",
       "      <th>pre-opt-marginal-cost</th>\n",
       "      <th>post-opt-marginal-cost</th>\n",
       "      <th>pre-opt-spend</th>\n",
       "      <th>post-opt-spend</th>\n",
       "    </tr>\n",
       "  </thead>\n",
       "  <tbody>\n",
       "    <tr>\n",
       "      <th>promo</th>\n",
       "      <td>72.16317</td>\n",
       "      <td>54.56168</td>\n",
       "      <td>76.79699</td>\n",
       "      <td>55.28816</td>\n",
       "      <td>55.32300</td>\n",
       "      <td>0.00000</td>\n",
       "    </tr>\n",
       "    <tr>\n",
       "      <th>radio</th>\n",
       "      <td>54.97775</td>\n",
       "      <td>34.85148</td>\n",
       "      <td>57.34654</td>\n",
       "      <td>38.16549</td>\n",
       "      <td>123.91600</td>\n",
       "      <td>50.65682</td>\n",
       "    </tr>\n",
       "    <tr>\n",
       "      <th>search</th>\n",
       "      <td>23.99325</td>\n",
       "      <td>33.13144</td>\n",
       "      <td>25.49489</td>\n",
       "      <td>37.91734</td>\n",
       "      <td>94.99100</td>\n",
       "      <td>225.34506</td>\n",
       "    </tr>\n",
       "    <tr>\n",
       "      <th>social</th>\n",
       "      <td>22.13891</td>\n",
       "      <td>33.65296</td>\n",
       "      <td>23.51090</td>\n",
       "      <td>37.93296</td>\n",
       "      <td>70.18200</td>\n",
       "      <td>251.82098</td>\n",
       "    </tr>\n",
       "    <tr>\n",
       "      <th>tv</th>\n",
       "      <td>75.16130</td>\n",
       "      <td>37.46793</td>\n",
       "      <td>80.47902</td>\n",
       "      <td>39.32227</td>\n",
       "      <td>185.88400</td>\n",
       "      <td>2.47315</td>\n",
       "    </tr>\n",
       "  </tbody>\n",
       "</table>\n",
       "</div>"
      ],
      "text/plain": [
       "        pre-opt-avg-cost  post-opt-avg-cost  pre-opt-marginal-cost  \\\n",
       "promo           72.16317           54.56168               76.79699   \n",
       "radio           54.97775           34.85148               57.34654   \n",
       "search          23.99325           33.13144               25.49489   \n",
       "social          22.13891           33.65296               23.51090   \n",
       "tv              75.16130           37.46793               80.47902   \n",
       "\n",
       "        post-opt-marginal-cost  pre-opt-spend  post-opt-spend  \n",
       "promo                 55.28816       55.32300         0.00000  \n",
       "radio                 38.16549      123.91600        50.65682  \n",
       "search                37.91734       94.99100       225.34506  \n",
       "social                37.93296       70.18200       251.82098  \n",
       "tv                    39.32227      185.88400         2.47315  "
      ]
     },
     "execution_count": 84,
     "metadata": {},
     "output_type": "execute_result"
    }
   ],
   "source": [
    "cost_report"
   ]
  },
  {
   "cell_type": "code",
   "execution_count": null,
   "metadata": {},
   "outputs": [],
   "source": []
  }
 ],
 "metadata": {
  "interpreter": {
   "hash": "e4c3ddbee9172d5d924d9319423b481e9709a3db66d191355ac8f24c8de7c580"
  },
  "kernelspec": {
   "display_name": "karpiu",
   "language": "python",
   "name": "karpiu"
  },
  "language_info": {
   "codemirror_mode": {
    "name": "ipython",
    "version": 3
   },
   "file_extension": ".py",
   "mimetype": "text/x-python",
   "name": "python",
   "nbconvert_exporter": "python",
   "pygments_lexer": "ipython3",
   "version": "3.9.0"
  }
 },
 "nbformat": 4,
 "nbformat_minor": 4
}
