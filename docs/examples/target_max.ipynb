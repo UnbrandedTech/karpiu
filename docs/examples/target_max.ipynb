{
 "cells": [
  {
   "cell_type": "markdown",
   "metadata": {},
   "source": [
    "## Target Maximization"
   ]
  },
  {
   "cell_type": "markdown",
   "metadata": {},
   "source": [
    "This section covers budget optimization by maximizing target with the insights from a fitted MMM."
   ]
  },
  {
   "cell_type": "code",
   "execution_count": 1,
   "metadata": {},
   "outputs": [],
   "source": [
    "import numpy as np\n",
    "import pandas as pd\n",
    "import math\n",
    "import matplotlib.pyplot as plt\n",
    "import pickle\n",
    "\n",
    "from karpiu.planning.optim import TargetMaximizer\n",
    "from karpiu.planning.common import generate_cost_report\n",
    "\n",
    "pd.set_option(\"display.float_format\", lambda x: \"%.5f\" % x)\n",
    "np.set_printoptions(suppress=True)\n",
    "pd.set_option(\"display.max_rows\", 50)"
   ]
  },
  {
   "cell_type": "code",
   "execution_count": 2,
   "metadata": {},
   "outputs": [],
   "source": [
    "%load_ext autoreload\n",
    "%autoreload 2"
   ]
  },
  {
   "cell_type": "markdown",
   "metadata": {},
   "source": [
    "Bring back the fitted model from previous `Quickstart` section."
   ]
  },
  {
   "cell_type": "code",
   "execution_count": 7,
   "metadata": {},
   "outputs": [],
   "source": [
    "with open(\"./resource/model.pkl\", \"rb\") as f:\n",
    "    mmm = pickle.load(f)"
   ]
  },
  {
   "cell_type": "code",
   "execution_count": 8,
   "metadata": {},
   "outputs": [
    {
     "data": {
      "text/html": [
       "<div>\n",
       "<style scoped>\n",
       "    .dataframe tbody tr th:only-of-type {\n",
       "        vertical-align: middle;\n",
       "    }\n",
       "\n",
       "    .dataframe tbody tr th {\n",
       "        vertical-align: top;\n",
       "    }\n",
       "\n",
       "    .dataframe thead th {\n",
       "        text-align: right;\n",
       "    }\n",
       "</style>\n",
       "<table border=\"1\" class=\"dataframe\">\n",
       "  <thead>\n",
       "    <tr style=\"text-align: right;\">\n",
       "      <th></th>\n",
       "      <th>regressor</th>\n",
       "      <th>sign</th>\n",
       "      <th>coef_p50</th>\n",
       "      <th>coef_p05</th>\n",
       "      <th>coef_p95</th>\n",
       "      <th>Pr(coef &gt;= 0)</th>\n",
       "      <th>Pr(coef &lt; 0)</th>\n",
       "      <th>loc_prior</th>\n",
       "      <th>scale_prior</th>\n",
       "    </tr>\n",
       "  </thead>\n",
       "  <tbody>\n",
       "    <tr>\n",
       "      <th>0</th>\n",
       "      <td>promo</td>\n",
       "      <td>Positive</td>\n",
       "      <td>0.05736</td>\n",
       "      <td>0.04121</td>\n",
       "      <td>0.07378</td>\n",
       "      <td>1.00000</td>\n",
       "      <td>0.00000</td>\n",
       "      <td>0.00000</td>\n",
       "      <td>0.10000</td>\n",
       "    </tr>\n",
       "    <tr>\n",
       "      <th>1</th>\n",
       "      <td>radio</td>\n",
       "      <td>Positive</td>\n",
       "      <td>0.05506</td>\n",
       "      <td>0.03968</td>\n",
       "      <td>0.06886</td>\n",
       "      <td>1.00000</td>\n",
       "      <td>0.00000</td>\n",
       "      <td>0.00000</td>\n",
       "      <td>0.10000</td>\n",
       "    </tr>\n",
       "    <tr>\n",
       "      <th>2</th>\n",
       "      <td>search</td>\n",
       "      <td>Positive</td>\n",
       "      <td>0.20909</td>\n",
       "      <td>0.18660</td>\n",
       "      <td>0.23081</td>\n",
       "      <td>1.00000</td>\n",
       "      <td>0.00000</td>\n",
       "      <td>0.00000</td>\n",
       "      <td>0.10000</td>\n",
       "    </tr>\n",
       "    <tr>\n",
       "      <th>3</th>\n",
       "      <td>social</td>\n",
       "      <td>Positive</td>\n",
       "      <td>0.07827</td>\n",
       "      <td>0.05903</td>\n",
       "      <td>0.09767</td>\n",
       "      <td>1.00000</td>\n",
       "      <td>0.00000</td>\n",
       "      <td>0.00000</td>\n",
       "      <td>0.10000</td>\n",
       "    </tr>\n",
       "    <tr>\n",
       "      <th>4</th>\n",
       "      <td>tv</td>\n",
       "      <td>Positive</td>\n",
       "      <td>0.10681</td>\n",
       "      <td>0.08683</td>\n",
       "      <td>0.12805</td>\n",
       "      <td>1.00000</td>\n",
       "      <td>0.00000</td>\n",
       "      <td>0.00000</td>\n",
       "      <td>0.10000</td>\n",
       "    </tr>\n",
       "  </tbody>\n",
       "</table>\n",
       "</div>"
      ],
      "text/plain": [
       "  regressor      sign  coef_p50  coef_p05  coef_p95  Pr(coef >= 0)  \\\n",
       "0     promo  Positive   0.05736   0.04121   0.07378        1.00000   \n",
       "1     radio  Positive   0.05506   0.03968   0.06886        1.00000   \n",
       "2    search  Positive   0.20909   0.18660   0.23081        1.00000   \n",
       "3    social  Positive   0.07827   0.05903   0.09767        1.00000   \n",
       "4        tv  Positive   0.10681   0.08683   0.12805        1.00000   \n",
       "\n",
       "   Pr(coef < 0)  loc_prior  scale_prior  \n",
       "0       0.00000    0.00000      0.10000  \n",
       "1       0.00000    0.00000      0.10000  \n",
       "2       0.00000    0.00000      0.10000  \n",
       "3       0.00000    0.00000      0.10000  \n",
       "4       0.00000    0.00000      0.10000  "
      ]
     },
     "execution_count": 8,
     "metadata": {},
     "output_type": "execute_result"
    }
   ],
   "source": [
    "mmm.get_regression_summary()"
   ]
  },
  {
   "cell_type": "code",
   "execution_count": 9,
   "metadata": {},
   "outputs": [],
   "source": [
    "budget_start = pd.to_datetime(\"2021-01-01\")\n",
    "budget_end = pd.to_datetime(\"2021-01-31\")\n",
    "optim_channels = mmm.get_spend_cols()"
   ]
  },
  {
   "cell_type": "code",
   "execution_count": 53,
   "metadata": {},
   "outputs": [
    {
     "name": "stdout",
     "output_type": "stream",
     "text": [
      "Optimization terminated successfully    (Exit mode 0)\n",
      "            Current function value: -7318.007240550194\n",
      "            Iterations: 48\n",
      "            Function evaluations: 7387\n",
      "            Gradient evaluations: 47\n"
     ]
    }
   ],
   "source": [
    "maximizer = TargetMaximizer(\n",
    "    model=mmm,\n",
    "    budget_start=budget_start,\n",
    "    budget_end=budget_end,\n",
    "    optim_channels=optim_channels,\n",
    "    variance_penalty=1e-3,\n",
    ")\n",
    "optim_spend_df = maximizer.optimize(maxiter=1000)"
   ]
  },
  {
   "cell_type": "code",
   "execution_count": 55,
   "metadata": {},
   "outputs": [],
   "source": [
    "optim_spend_matrix = maximizer.get_current_state()\n",
    "init_spend_matrix = maximizer.get_init_state()"
   ]
  },
  {
   "cell_type": "code",
   "execution_count": 57,
   "metadata": {},
   "outputs": [
    {
     "name": "stdout",
     "output_type": "stream",
     "text": [
      "Suggested total spend: 490508\n",
      "Total Budget: 490508\n"
     ]
    }
   ],
   "source": [
    "# total spend suggest\n",
    "print(\"Suggested total spend: {:.0f}\".format(np.sum(optim_spend_matrix)))\n",
    "# total budget\n",
    "print(\"Total Budget: {:.0f}\".format(np.sum(init_spend_matrix)))"
   ]
  },
  {
   "cell_type": "markdown",
   "metadata": {},
   "source": [
    "### Budget Allocation"
   ]
  },
  {
   "cell_type": "code",
   "execution_count": 50,
   "metadata": {},
   "outputs": [
    {
     "data": {
      "image/png": "[encoded data removed]",
      "text/plain": [
       "<Figure size 2000x1000 with 1 Axes>"
      ]
     },
     "metadata": {},
     "output_type": "display_data"
    }
   ],
   "source": [
    "init_total_spend = np.sum(init_spend_matrix, 0)\n",
    "optim_total_spend = np.sum(optim_spend_matrix, 0)\n",
    "plot_data = np.vstack([init_total_spend, optim_total_spend])\n",
    "plot_data.shape\n",
    "\n",
    "fig, ax = plt.subplots(1, 1, figsize=(20, 10))\n",
    "bottom = 0.0\n",
    "for idx, label in enumerate(optim_channels):\n",
    "    ax.bar(x=[\"Pre\", \"Post\"], height=plot_data[:, idx], bottom=bottom, label=label)\n",
    "    bottom += plot_data[:, idx]\n",
    "# ax.set_title(\"Spend Allocation Pre vs. Post Optimization\")\n",
    "ax.legend(\n",
    "    loc=\"lower center\",\n",
    "    bbox_to_anchor=(0.5, -0.10),\n",
    "    ncol=math.ceil(len(optim_channels) / 2),\n",
    ");"
   ]
  },
  {
   "cell_type": "markdown",
   "metadata": {},
   "source": [
    "### Average and Marginal Cost Change"
   ]
  },
  {
   "cell_type": "code",
   "execution_count": 51,
   "metadata": {},
   "outputs": [
    {
     "data": {
      "text/html": [
       "<div>\n",
       "<style scoped>\n",
       "    .dataframe tbody tr th:only-of-type {\n",
       "        vertical-align: middle;\n",
       "    }\n",
       "\n",
       "    .dataframe tbody tr th {\n",
       "        vertical-align: top;\n",
       "    }\n",
       "\n",
       "    .dataframe thead th {\n",
       "        text-align: right;\n",
       "    }\n",
       "</style>\n",
       "<table border=\"1\" class=\"dataframe\">\n",
       "  <thead>\n",
       "    <tr style=\"text-align: right;\">\n",
       "      <th></th>\n",
       "      <th>pre-opt-avg-cost</th>\n",
       "      <th>post-opt-avg-cost</th>\n",
       "      <th>pre-opt-marginal-cost</th>\n",
       "      <th>post-opt-marginal-cost</th>\n",
       "      <th>pre-opt-spend</th>\n",
       "      <th>post-opt-spend</th>\n",
       "    </tr>\n",
       "  </thead>\n",
       "  <tbody>\n",
       "    <tr>\n",
       "      <th>promo</th>\n",
       "      <td>38.86283</td>\n",
       "      <td>39.93671</td>\n",
       "      <td>43.32483</td>\n",
       "      <td>42.65862</td>\n",
       "      <td>53.30000</td>\n",
       "      <td>60.98161</td>\n",
       "    </tr>\n",
       "    <tr>\n",
       "      <th>radio</th>\n",
       "      <td>79.55461</td>\n",
       "      <td>40.72423</td>\n",
       "      <td>87.02984</td>\n",
       "      <td>44.36556</td>\n",
       "      <td>112.97900</td>\n",
       "      <td>15.91539</td>\n",
       "    </tr>\n",
       "    <tr>\n",
       "      <th>search</th>\n",
       "      <td>21.24898</td>\n",
       "      <td>39.77957</td>\n",
       "      <td>24.43860</td>\n",
       "      <td>42.53222</td>\n",
       "      <td>78.03300</td>\n",
       "      <td>285.73537</td>\n",
       "    </tr>\n",
       "    <tr>\n",
       "      <th>social</th>\n",
       "      <td>40.12583</td>\n",
       "      <td>40.94202</td>\n",
       "      <td>41.21572</td>\n",
       "      <td>42.70819</td>\n",
       "      <td>71.64400</td>\n",
       "      <td>77.93545</td>\n",
       "    </tr>\n",
       "    <tr>\n",
       "      <th>tv</th>\n",
       "      <td>65.72122</td>\n",
       "      <td>40.55574</td>\n",
       "      <td>72.08270</td>\n",
       "      <td>44.12223</td>\n",
       "      <td>174.55200</td>\n",
       "      <td>49.94018</td>\n",
       "    </tr>\n",
       "  </tbody>\n",
       "</table>\n",
       "</div>"
      ],
      "text/plain": [
       "        pre-opt-avg-cost  post-opt-avg-cost  pre-opt-marginal-cost  \\\n",
       "promo           38.86283           39.93671               43.32483   \n",
       "radio           79.55461           40.72423               87.02984   \n",
       "search          21.24898           39.77957               24.43860   \n",
       "social          40.12583           40.94202               41.21572   \n",
       "tv              65.72122           40.55574               72.08270   \n",
       "\n",
       "        post-opt-marginal-cost  pre-opt-spend  post-opt-spend  \n",
       "promo                 42.65862       53.30000        60.98161  \n",
       "radio                 44.36556      112.97900        15.91539  \n",
       "search                42.53222       78.03300       285.73537  \n",
       "social                42.70819       71.64400        77.93545  \n",
       "tv                    44.12223      174.55200        49.94018  "
      ]
     },
     "execution_count": 51,
     "metadata": {},
     "output_type": "execute_result"
    }
   ],
   "source": [
    "cost_report = generate_cost_report(\n",
    "    model=mmm,\n",
    "    channels=optim_channels,\n",
    "    start=budget_start,\n",
    "    end=budget_end,\n",
    "    pre_spend_df=df,\n",
    "    post_spend_df=optim_spend_df,\n",
    ")\n",
    "cost_report"
   ]
  },
  {
   "cell_type": "markdown",
   "metadata": {},
   "source": [
    "### Outcome Plot"
   ]
  },
  {
   "cell_type": "code",
   "execution_count": 59,
   "metadata": {},
   "outputs": [],
   "source": [
    "df = mmm.get_raw_df()\n",
    "optim_pred = mmm.predict(optim_spend_df)\n",
    "init_pred = mmm.predict(df)"
   ]
  },
  {
   "cell_type": "code",
   "execution_count": 61,
   "metadata": {},
   "outputs": [
    {
     "data": {
      "image/png": "[encoded data removed]",
      "text/plain": [
       "<Figure size 1600x800 with 1 Axes>"
      ]
     },
     "metadata": {},
     "output_type": "display_data"
    }
   ],
   "source": [
    "fig, ax = plt.subplots(1, 1, figsize=(16, 8))\n",
    "ax.plot(\n",
    "    optim_pred.loc[maximizer.result_mask, \"date\"].values,\n",
    "    optim_pred.loc[maximizer.result_mask, \"prediction\"].values,\n",
    "    label=\"optimal\",\n",
    "    alpha=0.8,\n",
    ")\n",
    "ax.plot(\n",
    "    init_pred.loc[maximizer.result_mask, \"date\"].values,\n",
    "    init_pred.loc[maximizer.result_mask, \"prediction\"].values,\n",
    "    label=\"original\",\n",
    "    alpha=0.8,\n",
    ")\n",
    "fig.legend()\n",
    "fig.tight_layout();"
   ]
  },
  {
   "cell_type": "code",
   "execution_count": 63,
   "metadata": {},
   "outputs": [],
   "source": [
    "# check2: total predicted response must be higher than current\n",
    "total_optim_pred = np.sum(optim_pred.loc[maximizer.result_mask, \"prediction\"].values)\n",
    "total_init_pred = np.sum(init_pred.loc[maximizer.result_mask, \"prediction\"].values)\n",
    "assert total_optim_pred > total_init_pred"
   ]
  },
  {
   "cell_type": "markdown",
   "metadata": {},
   "source": [
    "Right now change the raw_df in a hacky way inside the mmm model so that it has different initial spend.\n",
    "then\n",
    "1. change spend but preserve total in the period\n",
    "2. plug back into new model object\n",
    "3. create new optim object\n",
    "4. check result"
   ]
  },
  {
   "cell_type": "code",
   "execution_count": 3,
   "metadata": {},
   "outputs": [],
   "source": [
    "import pytest\n",
    "import numpy as np\n",
    "import pandas as pd\n",
    "from copy import deepcopy\n",
    "\n",
    "from karpiu.models import MMM\n",
    "from karpiu.simulation import make_mmm_daily_data\n",
    "from karpiu.planning.optim import TargetMaximizer\n",
    "from karpiu.planning.common import generate_cost_report\n",
    "from karpiu.utils import adstock_process"
   ]
  },
  {
   "cell_type": "code",
   "execution_count": 4,
   "metadata": {},
   "outputs": [
    {
     "name": "stderr",
     "output_type": "stream",
     "text": [
      "2023-03-28 23:11:52 - karpiu-mmm - INFO - Initialize model\n",
      "2023-03-28 23:11:52 - karpiu-mmm - INFO - Deriving saturation constants...\n",
      "2023-03-28 23:11:52 - karpiu-mmm - INFO - Derived saturation constants.\n",
      "2023-03-28 23:11:52 - karpiu-mmm - INFO - Set hyper-parameters.\n",
      "2023-03-28 23:11:52 - karpiu-mmm - INFO - Best params damped_factor set as 0.90570\n",
      "2023-03-28 23:11:52 - karpiu-mmm - INFO - Best params level_sm_input set as 0.00245\n",
      "2023-03-28 23:11:52 - karpiu-mmm - INFO - Fit final model.\n",
      "2023-03-28 23:11:52 - karpiu-mmm - INFO - Build a default regression scheme\n",
      "2023-03-28 23:11:52 - orbit - INFO - Sampling (PyStan) with chains: 4, cores: 8, temperature: 1.000, warmups (per chain): 250 and samples(per chain): 250.\n"
     ]
    },
    {
     "data": {
      "application/vnd.jupyter.widget-view+json": {
       "model_id": "79a5b077e70840baaa3560c80fe9668d",
       "version_major": 2,
       "version_minor": 0
      },
      "text/plain": [
       "chain 1 |          | 00:00 Status"
      ]
     },
     "metadata": {},
     "output_type": "display_data"
    },
    {
     "data": {
      "application/vnd.jupyter.widget-view+json": {
       "model_id": "d9058c0291494d9f82003045dfd95f6e",
       "version_major": 2,
       "version_minor": 0
      },
      "text/plain": [
       "chain 2 |          | 00:00 Status"
      ]
     },
     "metadata": {},
     "output_type": "display_data"
    },
    {
     "data": {
      "application/vnd.jupyter.widget-view+json": {
       "model_id": "49a5ec759be54bddb3be6aeff8e8029e",
       "version_major": 2,
       "version_minor": 0
      },
      "text/plain": [
       "chain 3 |          | 00:00 Status"
      ]
     },
     "metadata": {},
     "output_type": "display_data"
    },
    {
     "data": {
      "application/vnd.jupyter.widget-view+json": {
       "model_id": "933d01c0d0a44fd49e906639e1c78e87",
       "version_major": 2,
       "version_minor": 0
      },
      "text/plain": [
       "chain 4 |          | 00:00 Status"
      ]
     },
     "metadata": {},
     "output_type": "display_data"
    },
    {
     "name": "stdout",
     "output_type": "stream",
     "text": [
      "                                                                                                                                                                                                                                                                                                                                \n"
     ]
    },
    {
     "name": "stderr",
     "output_type": "stream",
     "text": [
      "2023-03-28 23:14:03 - karpiu-mmm - INFO - Spend channels regression coefficients sum (0.512506) is within common range (0, 0.8].\n"
     ]
    },
    {
     "name": "stdout",
     "output_type": "stream",
     "text": [
      "Optimization terminated successfully    (Exit mode 0)\n",
      "            Current function value: -49085.96555826407\n",
      "            Iterations: 949\n",
      "            Function evaluations: 148045\n",
      "            Gradient evaluations: 949\n"
     ]
    },
    {
     "ename": "AssertionError",
     "evalue": "",
     "output_type": "error",
     "traceback": [
      "\u001b[0;31m---------------------------------------------------------------------------\u001b[0m",
      "\u001b[0;31mAssertionError\u001b[0m                            Traceback (most recent call last)",
      "Cell \u001b[0;32mIn[4], line 86\u001b[0m\n\u001b[1;32m     83\u001b[0m post_ac \u001b[38;5;241m=\u001b[39m cost_report[\u001b[38;5;124m\"\u001b[39m\u001b[38;5;124mpost-opt-avg-cost\u001b[39m\u001b[38;5;124m\"\u001b[39m]\u001b[38;5;241m.\u001b[39mvalues[post_opt_spend \u001b[38;5;241m>\u001b[39m \u001b[38;5;241m0\u001b[39m]\n\u001b[1;32m     84\u001b[0m post_mc \u001b[38;5;241m=\u001b[39m cost_report[\u001b[38;5;124m\"\u001b[39m\u001b[38;5;124mpost-opt-marginal-cost\u001b[39m\u001b[38;5;124m\"\u001b[39m]\u001b[38;5;241m.\u001b[39mvalues[post_opt_spend \u001b[38;5;241m>\u001b[39m \u001b[38;5;241m0\u001b[39m]\n\u001b[0;32m---> 86\u001b[0m \u001b[38;5;28;01massert\u001b[39;00m np\u001b[38;5;241m.\u001b[39mall(pre_mc \u001b[38;5;241m>\u001b[39m\u001b[38;5;241m=\u001b[39m pre_ac)\n\u001b[1;32m     87\u001b[0m \u001b[38;5;28;01massert\u001b[39;00m np\u001b[38;5;241m.\u001b[39mall(post_mc \u001b[38;5;241m>\u001b[39m\u001b[38;5;241m=\u001b[39m post_ac)\n\u001b[1;32m     89\u001b[0m \u001b[38;5;66;03m# check 2: all marginal cost of channel that has spend\u001b[39;00m\n\u001b[1;32m     90\u001b[0m \u001b[38;5;66;03m# within 15% of mean\u001b[39;00m\n",
      "\u001b[0;31mAssertionError\u001b[0m: "
     ]
    }
   ],
   "source": [
    "# data_args\n",
    "seed = 2022\n",
    "n_steps = 365 * 3\n",
    "channels_coef = [0.053, 0.08, 0.19, 0.125, 0.1]\n",
    "channels = [\"promo\", \"radio\", \"search\", \"social\", \"tv\"]\n",
    "features_loc = np.array([2000, 5000, 3850, 3000, 7500])\n",
    "features_scale = np.array([550, 2500, 500, 1000, 3500])\n",
    "scalability = np.array([3.0, 1.25, 0.8, 1.3, 1.5])\n",
    "start_date = \"2019-01-01\"\n",
    "# adstock_args = {\n",
    "#     \"n_steps\": 28,\n",
    "#     \"peak_step\": np.array([10, 8, 5, 3, 2]),\n",
    "#     \"left_growth\": np.array([0.05, 0.08, 0.1, 0.5, 0.75]),\n",
    "#     \"right_growth\": np.array([-0.03, -0.6, -0.5, -0.1, -0.25]),\n",
    "# }\n",
    "best_params = {\n",
    "    \"damped_factor\": 0.9057,\n",
    "    \"level_sm_input\": 0.00245,\n",
    "}\n",
    "np.random.seed(seed)\n",
    "\n",
    "df, scalability_df, adstock_df, event_cols = make_mmm_daily_data(\n",
    "    channels_coef=channels_coef,\n",
    "    channels=channels,\n",
    "    features_loc=features_loc,\n",
    "    features_scale=features_scale,\n",
    "    scalability=scalability,\n",
    "    n_steps=n_steps,\n",
    "    start_date=start_date,\n",
    "    adstock_args=None,\n",
    "    with_yearly_seasonality=True,\n",
    "    with_weekly_seasonality=True,\n",
    "    country=\"US\",\n",
    ")\n",
    "\n",
    "mmm = MMM(\n",
    "    kpi_col=\"sales\",\n",
    "    date_col=\"date\",\n",
    "    spend_cols=channels,\n",
    "    event_cols=event_cols,\n",
    "    seed=seed,\n",
    "    adstock_df=adstock_df,\n",
    "    seasonality=[7, 365.25],\n",
    "    fs_orders=[2, 3],\n",
    ")\n",
    "mmm.derive_saturation(df=df, scalability_df=scalability_df)\n",
    "mmm.set_hyper_params(params=best_params)\n",
    "# need this 4000/4000 to make sure coefficients are converged\n",
    "mmm.fit(df, num_warmup=1000, num_sample=1000, chains=4)\n",
    "budget_start = \"2020-01-01\"\n",
    "budget_end = \"2020-01-31\"\n",
    "optim_channels = mmm.get_spend_cols()\n",
    "# to be safe in beta version, use sorted list of channels\n",
    "optim_channels.sort()"
   ]
  },
  {
   "cell_type": "code",
   "execution_count": 123,
   "metadata": {},
   "outputs": [
    {
     "data": {
      "text/html": [
       "<div>\n",
       "<style scoped>\n",
       "    .dataframe tbody tr th:only-of-type {\n",
       "        vertical-align: middle;\n",
       "    }\n",
       "\n",
       "    .dataframe tbody tr th {\n",
       "        vertical-align: top;\n",
       "    }\n",
       "\n",
       "    .dataframe thead th {\n",
       "        text-align: right;\n",
       "    }\n",
       "</style>\n",
       "<table border=\"1\" class=\"dataframe\">\n",
       "  <thead>\n",
       "    <tr style=\"text-align: right;\">\n",
       "      <th></th>\n",
       "      <th>date</th>\n",
       "      <th>sales</th>\n",
       "      <th>promo</th>\n",
       "      <th>radio</th>\n",
       "      <th>search</th>\n",
       "      <th>social</th>\n",
       "      <th>tv</th>\n",
       "      <th>new-years-day</th>\n",
       "      <th>martin-luther-king-jr-day</th>\n",
       "      <th>washingtons-birthday</th>\n",
       "      <th>...</th>\n",
       "      <th>labor-day</th>\n",
       "      <th>columbus-day</th>\n",
       "      <th>veterans-day</th>\n",
       "      <th>thanksgiving</th>\n",
       "      <th>christmas-day</th>\n",
       "      <th>independence-day-observed</th>\n",
       "      <th>juneteenth-national-independence-day-observed</th>\n",
       "      <th>juneteenth-national-independence-day</th>\n",
       "      <th>christmas-day-observed</th>\n",
       "      <th>new-years-day-observed</th>\n",
       "    </tr>\n",
       "  </thead>\n",
       "  <tbody>\n",
       "    <tr>\n",
       "      <th>0</th>\n",
       "      <td>2019-01-01</td>\n",
       "      <td>1401.00000</td>\n",
       "      <td>0.00000</td>\n",
       "      <td>5248.00000</td>\n",
       "      <td>3591.00000</td>\n",
       "      <td>0.00000</td>\n",
       "      <td>3454.00000</td>\n",
       "      <td>1</td>\n",
       "      <td>0</td>\n",
       "      <td>0</td>\n",
       "      <td>...</td>\n",
       "      <td>0</td>\n",
       "      <td>0</td>\n",
       "      <td>0</td>\n",
       "      <td>0</td>\n",
       "      <td>0</td>\n",
       "      <td>0</td>\n",
       "      <td>0</td>\n",
       "      <td>0</td>\n",
       "      <td>0</td>\n",
       "      <td>0</td>\n",
       "    </tr>\n",
       "    <tr>\n",
       "      <th>1</th>\n",
       "      <td>2019-01-02</td>\n",
       "      <td>906.00000</td>\n",
       "      <td>0.00000</td>\n",
       "      <td>3360.00000</td>\n",
       "      <td>3598.00000</td>\n",
       "      <td>3087.00000</td>\n",
       "      <td>0.00000</td>\n",
       "      <td>0</td>\n",
       "      <td>0</td>\n",
       "      <td>0</td>\n",
       "      <td>...</td>\n",
       "      <td>0</td>\n",
       "      <td>0</td>\n",
       "      <td>0</td>\n",
       "      <td>0</td>\n",
       "      <td>0</td>\n",
       "      <td>0</td>\n",
       "      <td>0</td>\n",
       "      <td>0</td>\n",
       "      <td>0</td>\n",
       "      <td>0</td>\n",
       "    </tr>\n",
       "    <tr>\n",
       "      <th>2</th>\n",
       "      <td>2019-01-03</td>\n",
       "      <td>930.00000</td>\n",
       "      <td>2891.00000</td>\n",
       "      <td>10145.00000</td>\n",
       "      <td>4184.00000</td>\n",
       "      <td>2595.00000</td>\n",
       "      <td>12127.00000</td>\n",
       "      <td>0</td>\n",
       "      <td>0</td>\n",
       "      <td>0</td>\n",
       "      <td>...</td>\n",
       "      <td>0</td>\n",
       "      <td>0</td>\n",
       "      <td>0</td>\n",
       "      <td>0</td>\n",
       "      <td>0</td>\n",
       "      <td>0</td>\n",
       "      <td>0</td>\n",
       "      <td>0</td>\n",
       "      <td>0</td>\n",
       "      <td>0</td>\n",
       "    </tr>\n",
       "    <tr>\n",
       "      <th>3</th>\n",
       "      <td>2019-01-04</td>\n",
       "      <td>728.00000</td>\n",
       "      <td>1579.00000</td>\n",
       "      <td>5853.00000</td>\n",
       "      <td>3704.00000</td>\n",
       "      <td>0.00000</td>\n",
       "      <td>4570.00000</td>\n",
       "      <td>0</td>\n",
       "      <td>0</td>\n",
       "      <td>0</td>\n",
       "      <td>...</td>\n",
       "      <td>0</td>\n",
       "      <td>0</td>\n",
       "      <td>0</td>\n",
       "      <td>0</td>\n",
       "      <td>0</td>\n",
       "      <td>0</td>\n",
       "      <td>0</td>\n",
       "      <td>0</td>\n",
       "      <td>0</td>\n",
       "      <td>0</td>\n",
       "    </tr>\n",
       "    <tr>\n",
       "      <th>4</th>\n",
       "      <td>2019-01-05</td>\n",
       "      <td>653.00000</td>\n",
       "      <td>996.00000</td>\n",
       "      <td>6580.00000</td>\n",
       "      <td>4403.00000</td>\n",
       "      <td>3383.00000</td>\n",
       "      <td>0.00000</td>\n",
       "      <td>0</td>\n",
       "      <td>0</td>\n",
       "      <td>0</td>\n",
       "      <td>...</td>\n",
       "      <td>0</td>\n",
       "      <td>0</td>\n",
       "      <td>0</td>\n",
       "      <td>0</td>\n",
       "      <td>0</td>\n",
       "      <td>0</td>\n",
       "      <td>0</td>\n",
       "      <td>0</td>\n",
       "      <td>0</td>\n",
       "      <td>0</td>\n",
       "    </tr>\n",
       "    <tr>\n",
       "      <th>...</th>\n",
       "      <td>...</td>\n",
       "      <td>...</td>\n",
       "      <td>...</td>\n",
       "      <td>...</td>\n",
       "      <td>...</td>\n",
       "      <td>...</td>\n",
       "      <td>...</td>\n",
       "      <td>...</td>\n",
       "      <td>...</td>\n",
       "      <td>...</td>\n",
       "      <td>...</td>\n",
       "      <td>...</td>\n",
       "      <td>...</td>\n",
       "      <td>...</td>\n",
       "      <td>...</td>\n",
       "      <td>...</td>\n",
       "      <td>...</td>\n",
       "      <td>...</td>\n",
       "      <td>...</td>\n",
       "      <td>...</td>\n",
       "      <td>...</td>\n",
       "    </tr>\n",
       "    <tr>\n",
       "      <th>1090</th>\n",
       "      <td>2021-12-26</td>\n",
       "      <td>1353.00000</td>\n",
       "      <td>0.00000</td>\n",
       "      <td>7836.00000</td>\n",
       "      <td>4091.00000</td>\n",
       "      <td>0.00000</td>\n",
       "      <td>3450.00000</td>\n",
       "      <td>0</td>\n",
       "      <td>0</td>\n",
       "      <td>0</td>\n",
       "      <td>...</td>\n",
       "      <td>0</td>\n",
       "      <td>0</td>\n",
       "      <td>0</td>\n",
       "      <td>0</td>\n",
       "      <td>0</td>\n",
       "      <td>0</td>\n",
       "      <td>0</td>\n",
       "      <td>0</td>\n",
       "      <td>0</td>\n",
       "      <td>0</td>\n",
       "    </tr>\n",
       "    <tr>\n",
       "      <th>1091</th>\n",
       "      <td>2021-12-27</td>\n",
       "      <td>2522.00000</td>\n",
       "      <td>0.00000</td>\n",
       "      <td>4024.00000</td>\n",
       "      <td>3644.00000</td>\n",
       "      <td>2269.00000</td>\n",
       "      <td>10284.00000</td>\n",
       "      <td>0</td>\n",
       "      <td>0</td>\n",
       "      <td>0</td>\n",
       "      <td>...</td>\n",
       "      <td>0</td>\n",
       "      <td>0</td>\n",
       "      <td>0</td>\n",
       "      <td>0</td>\n",
       "      <td>0</td>\n",
       "      <td>0</td>\n",
       "      <td>0</td>\n",
       "      <td>0</td>\n",
       "      <td>0</td>\n",
       "      <td>0</td>\n",
       "    </tr>\n",
       "    <tr>\n",
       "      <th>1092</th>\n",
       "      <td>2021-12-28</td>\n",
       "      <td>1909.00000</td>\n",
       "      <td>2407.00000</td>\n",
       "      <td>0.00000</td>\n",
       "      <td>0.00000</td>\n",
       "      <td>2611.00000</td>\n",
       "      <td>0.00000</td>\n",
       "      <td>0</td>\n",
       "      <td>0</td>\n",
       "      <td>0</td>\n",
       "      <td>...</td>\n",
       "      <td>0</td>\n",
       "      <td>0</td>\n",
       "      <td>0</td>\n",
       "      <td>0</td>\n",
       "      <td>0</td>\n",
       "      <td>0</td>\n",
       "      <td>0</td>\n",
       "      <td>0</td>\n",
       "      <td>0</td>\n",
       "      <td>0</td>\n",
       "    </tr>\n",
       "    <tr>\n",
       "      <th>1093</th>\n",
       "      <td>2021-12-29</td>\n",
       "      <td>1804.00000</td>\n",
       "      <td>2472.00000</td>\n",
       "      <td>625.00000</td>\n",
       "      <td>4394.00000</td>\n",
       "      <td>3041.00000</td>\n",
       "      <td>3840.00000</td>\n",
       "      <td>0</td>\n",
       "      <td>0</td>\n",
       "      <td>0</td>\n",
       "      <td>...</td>\n",
       "      <td>0</td>\n",
       "      <td>0</td>\n",
       "      <td>0</td>\n",
       "      <td>0</td>\n",
       "      <td>0</td>\n",
       "      <td>0</td>\n",
       "      <td>0</td>\n",
       "      <td>0</td>\n",
       "      <td>0</td>\n",
       "      <td>0</td>\n",
       "    </tr>\n",
       "    <tr>\n",
       "      <th>1094</th>\n",
       "      <td>2021-12-30</td>\n",
       "      <td>1625.00000</td>\n",
       "      <td>1578.00000</td>\n",
       "      <td>259.00000</td>\n",
       "      <td>4280.00000</td>\n",
       "      <td>3961.00000</td>\n",
       "      <td>7856.00000</td>\n",
       "      <td>0</td>\n",
       "      <td>0</td>\n",
       "      <td>0</td>\n",
       "      <td>...</td>\n",
       "      <td>0</td>\n",
       "      <td>0</td>\n",
       "      <td>0</td>\n",
       "      <td>0</td>\n",
       "      <td>0</td>\n",
       "      <td>0</td>\n",
       "      <td>0</td>\n",
       "      <td>0</td>\n",
       "      <td>0</td>\n",
       "      <td>0</td>\n",
       "    </tr>\n",
       "  </tbody>\n",
       "</table>\n",
       "<p>1095 rows × 22 columns</p>\n",
       "</div>"
      ],
      "text/plain": [
       "           date      sales      promo       radio     search     social  \\\n",
       "0    2019-01-01 1401.00000    0.00000  5248.00000 3591.00000    0.00000   \n",
       "1    2019-01-02  906.00000    0.00000  3360.00000 3598.00000 3087.00000   \n",
       "2    2019-01-03  930.00000 2891.00000 10145.00000 4184.00000 2595.00000   \n",
       "3    2019-01-04  728.00000 1579.00000  5853.00000 3704.00000    0.00000   \n",
       "4    2019-01-05  653.00000  996.00000  6580.00000 4403.00000 3383.00000   \n",
       "...         ...        ...        ...         ...        ...        ...   \n",
       "1090 2021-12-26 1353.00000    0.00000  7836.00000 4091.00000    0.00000   \n",
       "1091 2021-12-27 2522.00000    0.00000  4024.00000 3644.00000 2269.00000   \n",
       "1092 2021-12-28 1909.00000 2407.00000     0.00000    0.00000 2611.00000   \n",
       "1093 2021-12-29 1804.00000 2472.00000   625.00000 4394.00000 3041.00000   \n",
       "1094 2021-12-30 1625.00000 1578.00000   259.00000 4280.00000 3961.00000   \n",
       "\n",
       "              tv  new-years-day  martin-luther-king-jr-day  \\\n",
       "0     3454.00000              1                          0   \n",
       "1        0.00000              0                          0   \n",
       "2    12127.00000              0                          0   \n",
       "3     4570.00000              0                          0   \n",
       "4        0.00000              0                          0   \n",
       "...          ...            ...                        ...   \n",
       "1090  3450.00000              0                          0   \n",
       "1091 10284.00000              0                          0   \n",
       "1092     0.00000              0                          0   \n",
       "1093  3840.00000              0                          0   \n",
       "1094  7856.00000              0                          0   \n",
       "\n",
       "      washingtons-birthday  ...  labor-day  columbus-day  veterans-day  \\\n",
       "0                        0  ...          0             0             0   \n",
       "1                        0  ...          0             0             0   \n",
       "2                        0  ...          0             0             0   \n",
       "3                        0  ...          0             0             0   \n",
       "4                        0  ...          0             0             0   \n",
       "...                    ...  ...        ...           ...           ...   \n",
       "1090                     0  ...          0             0             0   \n",
       "1091                     0  ...          0             0             0   \n",
       "1092                     0  ...          0             0             0   \n",
       "1093                     0  ...          0             0             0   \n",
       "1094                     0  ...          0             0             0   \n",
       "\n",
       "      thanksgiving  christmas-day  independence-day-observed  \\\n",
       "0                0              0                          0   \n",
       "1                0              0                          0   \n",
       "2                0              0                          0   \n",
       "3                0              0                          0   \n",
       "4                0              0                          0   \n",
       "...            ...            ...                        ...   \n",
       "1090             0              0                          0   \n",
       "1091             0              0                          0   \n",
       "1092             0              0                          0   \n",
       "1093             0              0                          0   \n",
       "1094             0              0                          0   \n",
       "\n",
       "      juneteenth-national-independence-day-observed  \\\n",
       "0                                                 0   \n",
       "1                                                 0   \n",
       "2                                                 0   \n",
       "3                                                 0   \n",
       "4                                                 0   \n",
       "...                                             ...   \n",
       "1090                                              0   \n",
       "1091                                              0   \n",
       "1092                                              0   \n",
       "1093                                              0   \n",
       "1094                                              0   \n",
       "\n",
       "      juneteenth-national-independence-day  christmas-day-observed  \\\n",
       "0                                        0                       0   \n",
       "1                                        0                       0   \n",
       "2                                        0                       0   \n",
       "3                                        0                       0   \n",
       "4                                        0                       0   \n",
       "...                                    ...                     ...   \n",
       "1090                                     0                       0   \n",
       "1091                                     0                       0   \n",
       "1092                                     0                       0   \n",
       "1093                                     0                       0   \n",
       "1094                                     0                       0   \n",
       "\n",
       "      new-years-day-observed  \n",
       "0                          0  \n",
       "1                          0  \n",
       "2                          0  \n",
       "3                          0  \n",
       "4                          0  \n",
       "...                      ...  \n",
       "1090                       0  \n",
       "1091                       0  \n",
       "1092                       0  \n",
       "1093                       0  \n",
       "1094                       0  \n",
       "\n",
       "[1095 rows x 22 columns]"
      ]
     },
     "execution_count": 123,
     "metadata": {},
     "output_type": "execute_result"
    }
   ],
   "source": [
    "df"
   ]
  },
  {
   "cell_type": "code",
   "execution_count": 194,
   "metadata": {},
   "outputs": [
    {
     "name": "stdout",
     "output_type": "stream",
     "text": [
      "Optimization terminated successfully    (Exit mode 0)\n",
      "            Current function value: -10997.260528110632\n",
      "            Iterations: 126\n",
      "            Function evaluations: 19668\n",
      "            Gradient evaluations: 126\n"
     ]
    }
   ],
   "source": [
    "maximizer = TargetMaximizer(\n",
    "    model=mmm,\n",
    "    budget_start=budget_start,\n",
    "    budget_end=budget_end,\n",
    "    optim_channels=optim_channels,\n",
    "    variance_penalty=0.0,\n",
    "    spend_scaler=1.0,\n",
    "    response_scaler=0.01 * np.std(df[\"sales\"].values),\n",
    ")\n",
    "optim_spend_df = maximizer.optimize(maxiter=3000, ftol=1e-3)\n",
    "\n",
    "optim_spend_matrix = maximizer.get_current_state()\n",
    "init_spend_matrix = maximizer.get_init_state()\n",
    "# always spend all budget in target maximization; assure the total preserves\n",
    "assert np.allclose(np.sum(optim_spend_matrix), np.sum(init_spend_matrix))"
   ]
  },
  {
   "cell_type": "code",
   "execution_count": 195,
   "metadata": {},
   "outputs": [
    {
     "data": {
      "text/plain": [
       "545762.0"
      ]
     },
     "execution_count": 195,
     "metadata": {},
     "output_type": "execute_result"
    }
   ],
   "source": [
    "init_spend_matrix.sum()"
   ]
  },
  {
   "cell_type": "code",
   "execution_count": 196,
   "metadata": {},
   "outputs": [
    {
     "data": {
      "text/plain": [
       "545762.00001"
      ]
     },
     "execution_count": 196,
     "metadata": {},
     "output_type": "execute_result"
    }
   ],
   "source": [
    "optim_spend_matrix.sum()"
   ]
  },
  {
   "cell_type": "code",
   "execution_count": 197,
   "metadata": {},
   "outputs": [
    {
     "data": {
      "text/plain": [
       "0"
      ]
     },
     "execution_count": 197,
     "metadata": {},
     "output_type": "execute_result"
    }
   ],
   "source": [
    "mmm.get_max_adstock()"
   ]
  },
  {
   "cell_type": "code",
   "execution_count": 198,
   "metadata": {},
   "outputs": [
    {
     "data": {
      "text/plain": [
       "array([[ 1936.54268,  2006.54843,  4846.21522, 17158.99012,  3992.58292],\n",
       "       [  404.09251,  1778.31528,  8924.46959,  1033.00617,     4.22092],\n",
       "       [  287.7425 ,  2084.89271,  8164.12797,  1046.17782,     0.     ],\n",
       "       [  719.52849,     0.     ,  1966.004  ,  1279.26669,   245.08629],\n",
       "       [ 2602.655  ,  3185.73355,  3207.70954, 11831.28034, 10736.91044],\n",
       "       [ 3296.08775,  1900.60822,  7558.90514,  5686.70711,  3342.076  ],\n",
       "       [ 3828.01312,  1961.06815,  7179.16502,  5541.53327,  7980.98676],\n",
       "       [  163.04876,   243.1117 ,  2796.49592, 10526.62662,   187.55621],\n",
       "       [    0.     ,  3534.4617 ,  2571.65743,  1956.54211,     1.1544 ],\n",
       "       [ 2816.98138,  1391.04449,  2054.08073,  8600.70417,  3650.94968],\n",
       "       [   94.43045,   492.06909,  8166.85959,  1025.99523,  4763.49367],\n",
       "       [  315.5131 ,  3118.97378,  3070.58169,  2149.82514,     0.     ],\n",
       "       [ 2384.76496,  1136.35193,  6000.11883, 20526.18516,  4145.66013],\n",
       "       [ 7887.27831,  2381.00412,  6139.2189 ,  5045.95942,  3390.09321],\n",
       "       [  856.2649 ,   629.04965,  3715.66962,  2739.73832,  1114.61786],\n",
       "       [ 1001.22074,   716.98015, 11314.05027,  2672.27024,  7502.24001],\n",
       "       [  263.94262,  1875.20627,  3034.1015 ,  2525.13135, 10223.24928],\n",
       "       [    0.00326,   289.7118 ,  1215.09156,  5938.56167,  2199.75883],\n",
       "       [  629.75421,   244.52796,  3448.10036,  3047.84166,   300.2901 ],\n",
       "       [ 3223.52079,  2850.19082,  7044.42474,  6805.74679,  4318.24391],\n",
       "       [ 4108.7859 ,  3514.30704,  8097.63845,  6648.3384 ,  8326.34581],\n",
       "       [ 3189.56857,  1363.18984,  3559.28074,  4549.89392,  2660.91807],\n",
       "       [   60.74181,   964.45019, 12286.26976,  1947.38258,  2684.74183],\n",
       "       [  785.71847,  1187.4334 ,  1782.4514 ,  1898.02759,  1356.3094 ],\n",
       "       [   75.68299,     0.     ,  1242.01165,   615.72375,     0.     ],\n",
       "       [ 1132.89227,  1073.18179,  3544.1986 ,  2987.21141,  4698.76309],\n",
       "       [ 2512.29384,  2118.3822 ,  5275.8158 , 18773.5601 ,  2996.28309],\n",
       "       [ 3529.60022,  9173.58826,  6520.08431,  6432.6645 ,  4620.45294],\n",
       "       [ 1905.86378,   965.82525,  4783.77299,  3805.35881,  1414.30517],\n",
       "       [ 1853.46494,     4.16023, 12029.09196,  1946.84773, 11714.92508],\n",
       "       [   75.36212,     0.     ,  2578.00597,  2205.28903,     0.     ]])"
      ]
     },
     "execution_count": 198,
     "metadata": {},
     "output_type": "execute_result"
    }
   ],
   "source": [
    "optim_spend_matrix"
   ]
  },
  {
   "cell_type": "code",
   "execution_count": 192,
   "metadata": {},
   "outputs": [],
   "source": [
    "cost_report = generate_cost_report(\n",
    "    model=mmm,\n",
    "    channels=optim_channels,\n",
    "    start=budget_start,\n",
    "    end=budget_end,\n",
    "    pre_spend_df=df,\n",
    "    post_spend_df=optim_spend_df,\n",
    ")\n",
    "\n",
    "pre_opt_spend = cost_report[\"pre-opt-spend\"].values\n",
    "pre_ac = cost_report[\"pre-opt-avg-cost\"].values[pre_opt_spend > 0]\n",
    "pre_mc = cost_report[\"pre-opt-marginal-cost\"].values[pre_opt_spend > 0]\n",
    "\n",
    "post_opt_spend = cost_report[\"post-opt-spend\"].values\n",
    "post_ac = cost_report[\"post-opt-avg-cost\"].values[post_opt_spend > 0]\n",
    "post_mc = cost_report[\"post-opt-marginal-cost\"].values[post_opt_spend > 0]\n",
    "\n",
    "assert np.all(pre_mc >= pre_ac)\n",
    "assert np.all(post_mc >= post_ac)"
   ]
  },
  {
   "cell_type": "code",
   "execution_count": 193,
   "metadata": {},
   "outputs": [
    {
     "data": {
      "text/html": [
       "<div>\n",
       "<style scoped>\n",
       "    .dataframe tbody tr th:only-of-type {\n",
       "        vertical-align: middle;\n",
       "    }\n",
       "\n",
       "    .dataframe tbody tr th {\n",
       "        vertical-align: top;\n",
       "    }\n",
       "\n",
       "    .dataframe thead th {\n",
       "        text-align: right;\n",
       "    }\n",
       "</style>\n",
       "<table border=\"1\" class=\"dataframe\">\n",
       "  <thead>\n",
       "    <tr style=\"text-align: right;\">\n",
       "      <th></th>\n",
       "      <th>pre-opt-avg-cost</th>\n",
       "      <th>post-opt-avg-cost</th>\n",
       "      <th>pre-opt-marginal-cost</th>\n",
       "      <th>post-opt-marginal-cost</th>\n",
       "      <th>pre-opt-spend</th>\n",
       "      <th>post-opt-spend</th>\n",
       "    </tr>\n",
       "  </thead>\n",
       "  <tbody>\n",
       "    <tr>\n",
       "      <th>promo</th>\n",
       "      <td>50.50007</td>\n",
       "      <td>47.25963</td>\n",
       "      <td>54.33316</td>\n",
       "      <td>55.72796</td>\n",
       "      <td>49.99200</td>\n",
       "      <td>97.81719</td>\n",
       "    </tr>\n",
       "    <tr>\n",
       "      <th>radio</th>\n",
       "      <td>74.28564</td>\n",
       "      <td>42.56076</td>\n",
       "      <td>110.02550</td>\n",
       "      <td>50.25699</td>\n",
       "      <td>129.35500</td>\n",
       "      <td>45.65746</td>\n",
       "    </tr>\n",
       "    <tr>\n",
       "      <th>search</th>\n",
       "      <td>28.11295</td>\n",
       "      <td>33.96344</td>\n",
       "      <td>36.37019</td>\n",
       "      <td>48.97609</td>\n",
       "      <td>95.57900</td>\n",
       "      <td>207.04465</td>\n",
       "    </tr>\n",
       "    <tr>\n",
       "      <th>social</th>\n",
       "      <td>31.72900</td>\n",
       "      <td>38.18070</td>\n",
       "      <td>40.35832</td>\n",
       "      <td>56.40111</td>\n",
       "      <td>74.09300</td>\n",
       "      <td>194.82602</td>\n",
       "    </tr>\n",
       "    <tr>\n",
       "      <th>tv</th>\n",
       "      <td>105.26451</td>\n",
       "      <td>50.78956</td>\n",
       "      <td>149.10676</td>\n",
       "      <td>52.43751</td>\n",
       "      <td>196.74300</td>\n",
       "      <td>32.19451</td>\n",
       "    </tr>\n",
       "  </tbody>\n",
       "</table>\n",
       "</div>"
      ],
      "text/plain": [
       "        pre-opt-avg-cost  post-opt-avg-cost  pre-opt-marginal-cost  \\\n",
       "promo           50.50007           47.25963               54.33316   \n",
       "radio           74.28564           42.56076              110.02550   \n",
       "search          28.11295           33.96344               36.37019   \n",
       "social          31.72900           38.18070               40.35832   \n",
       "tv             105.26451           50.78956              149.10676   \n",
       "\n",
       "        post-opt-marginal-cost  pre-opt-spend  post-opt-spend  \n",
       "promo                 55.72796       49.99200        97.81719  \n",
       "radio                 50.25699      129.35500        45.65746  \n",
       "search                48.97609       95.57900       207.04465  \n",
       "social                56.40111       74.09300       194.82602  \n",
       "tv                    52.43751      196.74300        32.19451  "
      ]
     },
     "execution_count": 193,
     "metadata": {},
     "output_type": "execute_result"
    }
   ],
   "source": [
    "cost_report"
   ]
  },
  {
   "cell_type": "code",
   "execution_count": 205,
   "metadata": {},
   "outputs": [
    {
     "data": {
      "text/plain": [
       "array([[ 1936.54268,  2006.54843,  4846.21522, 17158.99012,  3992.58292],\n",
       "       [  404.09251,  1778.31528,  8924.46959,  1033.00617,     4.22092],\n",
       "       [  287.7425 ,  2084.89271,  8164.12797,  1046.17782,     0.     ],\n",
       "       [  719.52849,     0.     ,  1966.004  ,  1279.26669,   245.08629],\n",
       "       [ 2602.655  ,  3185.73355,  3207.70954, 11831.28034, 10736.91044],\n",
       "       [ 3296.08775,  1900.60822,  7558.90514,  5686.70711,  3342.076  ],\n",
       "       [ 3828.01312,  1961.06815,  7179.16502,  5541.53327,  7980.98676],\n",
       "       [  163.04876,   243.1117 ,  2796.49592, 10526.62662,   187.55621],\n",
       "       [    0.     ,  3534.4617 ,  2571.65743,  1956.54211,     1.1544 ],\n",
       "       [ 2816.98138,  1391.04449,  2054.08073,  8600.70417,  3650.94968],\n",
       "       [   94.43045,   492.06909,  8166.85959,  1025.99523,  4763.49367],\n",
       "       [  315.5131 ,  3118.97378,  3070.58169,  2149.82514,     0.     ],\n",
       "       [ 2384.76496,  1136.35193,  6000.11883, 20526.18516,  4145.66013],\n",
       "       [ 7887.27831,  2381.00412,  6139.2189 ,  5045.95942,  3390.09321],\n",
       "       [  856.2649 ,   629.04965,  3715.66962,  2739.73832,  1114.61786],\n",
       "       [ 1001.22074,   716.98015, 11314.05027,  2672.27024,  7502.24001],\n",
       "       [  263.94262,  1875.20627,  3034.1015 ,  2525.13135, 10223.24928],\n",
       "       [    0.00326,   289.7118 ,  1215.09156,  5938.56167,  2199.75883],\n",
       "       [  629.75421,   244.52796,  3448.10036,  3047.84166,   300.2901 ],\n",
       "       [ 3223.52079,  2850.19082,  7044.42474,  6805.74679,  4318.24391],\n",
       "       [ 4108.7859 ,  3514.30704,  8097.63845,  6648.3384 ,  8326.34581],\n",
       "       [ 3189.56857,  1363.18984,  3559.28074,  4549.89392,  2660.91807],\n",
       "       [   60.74181,   964.45019, 12286.26976,  1947.38258,  2684.74183],\n",
       "       [  785.71847,  1187.4334 ,  1782.4514 ,  1898.02759,  1356.3094 ],\n",
       "       [   75.68299,     0.     ,  1242.01165,   615.72375,     0.     ],\n",
       "       [ 1132.89227,  1073.18179,  3544.1986 ,  2987.21141,  4698.76309],\n",
       "       [ 2512.29384,  2118.3822 ,  5275.8158 , 18773.5601 ,  2996.28309],\n",
       "       [ 3529.60022,  9173.58826,  6520.08431,  6432.6645 ,  4620.45294],\n",
       "       [ 1905.86378,   965.82525,  4783.77299,  3805.35881,  1414.30517],\n",
       "       [ 1853.46494,     4.16023, 12029.09196,  1946.84773, 11714.92508],\n",
       "       [   75.36212,     0.     ,  2578.00597,  2205.28903,     0.     ]])"
      ]
     },
     "execution_count": 205,
     "metadata": {},
     "output_type": "execute_result"
    }
   ],
   "source": [
    "optim_spend_matrix"
   ]
  },
  {
   "cell_type": "code",
   "execution_count": 202,
   "metadata": {},
   "outputs": [
    {
     "name": "stdout",
     "output_type": "stream",
     "text": [
      "Optimization terminated successfully    (Exit mode 0)\n",
      "            Current function value: -10985.817762844608\n",
      "            Iterations: 218\n",
      "            Function evaluations: 34032\n",
      "            Gradient evaluations: 218\n"
     ]
    },
    {
     "ename": "AssertionError",
     "evalue": "",
     "output_type": "error",
     "traceback": [
      "\u001b[0;31m---------------------------------------------------------------------------\u001b[0m",
      "\u001b[0;31mAssertionError\u001b[0m                            Traceback (most recent call last)",
      "Cell \u001b[0;32mIn[202], line 50\u001b[0m\n\u001b[1;32m     47\u001b[0m \u001b[38;5;28;01massert\u001b[39;00m np\u001b[38;5;241m.\u001b[39many(np\u001b[38;5;241m.\u001b[39mnot_equal(new_init_spend_matrix, init_spend_matrix))\n\u001b[1;32m     48\u001b[0m \u001b[38;5;66;03m# FIXME: this should not be 10% different; come back to this once we have a faster unit test\u001b[39;00m\n\u001b[1;32m     49\u001b[0m \u001b[38;5;66;03m# right now, we turn off adstock make this work\u001b[39;00m\n\u001b[0;32m---> 50\u001b[0m \u001b[38;5;28;01massert\u001b[39;00m np\u001b[38;5;241m.\u001b[39mallclose(new_optim_spend_matrix, optim_spend_matrix, atol\u001b[38;5;241m=\u001b[39m\u001b[38;5;241m1e-1\u001b[39m, rtol\u001b[38;5;241m=\u001b[39m\u001b[38;5;241m1e-1\u001b[39m)\n",
      "\u001b[0;31mAssertionError\u001b[0m: "
     ]
    }
   ],
   "source": [
    "# check 2: all marginal cost of channel that has spend\n",
    "# within 15% of mean\n",
    "abs_delta_perc = np.abs(post_mc / np.nanmean(post_mc) - 1.00)\n",
    "assert np.all(abs_delta_perc < 0.15)\n",
    "\n",
    "cv = np.nanstd(post_mc) / np.nanmean(post_mc)\n",
    "assert np.all(cv < 0.1)\n",
    "\n",
    "# check 3: total predicted response must be equal to or higher than current\n",
    "optim_pred = mmm.predict(optim_spend_df)\n",
    "init_pred = mmm.predict(df)\n",
    "total_optim_pred = np.sum(optim_pred.loc[maximizer.result_mask, \"prediction\"].values)\n",
    "total_init_pred = np.sum(init_pred.loc[maximizer.result_mask, \"prediction\"].values)\n",
    "assert total_optim_pred - total_init_pred >= 0\n",
    "\n",
    "# check 4: optimization result should be indifferent with initial values\n",
    "# create different initial spend df and plug back into the model\n",
    "new_raw_df = mmm.get_raw_df()\n",
    "new_spend_matrix = new_raw_df.loc[\n",
    "    (new_raw_df[\"date\"] >= budget_start) & (new_raw_df[\"date\"] <= budget_end),\n",
    "    optim_channels,\n",
    "].values\n",
    "# mutable numpy array\n",
    "np.random.shuffle(new_spend_matrix)\n",
    "new_raw_df.loc[\n",
    "    (new_raw_df[\"date\"] >= budget_start) & (new_raw_df[\"date\"] <= budget_end),\n",
    "    optim_channels,\n",
    "] = new_spend_matrix\n",
    "new_mmm = deepcopy(mmm)\n",
    "new_mmm.raw_df = new_raw_df\n",
    "new_maximizer = TargetMaximizer(\n",
    "    model=new_mmm,\n",
    "    budget_start=budget_start,\n",
    "    budget_end=budget_end,\n",
    "    optim_channels=optim_channels,\n",
    "    variance_penalty=0.0,\n",
    "    spend_scaler=1.0,\n",
    "    response_scaler=0.01 * np.std(df[\"sales\"].values),\n",
    ")\n",
    "_ = new_maximizer.optimize(maxiter=3000, ftol=1e-3)\n",
    "new_optim_spend_matrix = new_maximizer.get_current_state()\n",
    "new_init_spend_matrix = new_maximizer.get_init_state()\n",
    "\n",
    "# the final result should be closed in either by 1e-1 or .1%\n",
    "assert np.any(np.not_equal(new_init_spend_matrix, init_spend_matrix))\n",
    "# FIXME: this should not be 10% different; come back to this once we have a faster unit test\n",
    "# right now, we turn off adstock make this work\n",
    "assert np.allclose(new_optim_spend_matrix, optim_spend_matrix, atol=1e-1, rtol=1e-1)"
   ]
  },
  {
   "cell_type": "code",
   "execution_count": 114,
   "metadata": {},
   "outputs": [
    {
     "data": {
      "text/html": [
       "<div>\n",
       "<style scoped>\n",
       "    .dataframe tbody tr th:only-of-type {\n",
       "        vertical-align: middle;\n",
       "    }\n",
       "\n",
       "    .dataframe tbody tr th {\n",
       "        vertical-align: top;\n",
       "    }\n",
       "\n",
       "    .dataframe thead th {\n",
       "        text-align: right;\n",
       "    }\n",
       "</style>\n",
       "<table border=\"1\" class=\"dataframe\">\n",
       "  <thead>\n",
       "    <tr style=\"text-align: right;\">\n",
       "      <th></th>\n",
       "      <th>pre-opt-avg-cost</th>\n",
       "      <th>post-opt-avg-cost</th>\n",
       "      <th>pre-opt-marginal-cost</th>\n",
       "      <th>post-opt-marginal-cost</th>\n",
       "      <th>pre-opt-spend</th>\n",
       "      <th>post-opt-spend</th>\n",
       "    </tr>\n",
       "  </thead>\n",
       "  <tbody>\n",
       "    <tr>\n",
       "      <th>promo</th>\n",
       "      <td>50.50007</td>\n",
       "      <td>46.40325</td>\n",
       "      <td>54.33316</td>\n",
       "      <td>57.49524</td>\n",
       "      <td>49.99200</td>\n",
       "      <td>93.19271</td>\n",
       "    </tr>\n",
       "    <tr>\n",
       "      <th>radio</th>\n",
       "      <td>74.28564</td>\n",
       "      <td>39.98051</td>\n",
       "      <td>110.02550</td>\n",
       "      <td>47.37869</td>\n",
       "      <td>129.35500</td>\n",
       "      <td>26.80708</td>\n",
       "    </tr>\n",
       "    <tr>\n",
       "      <th>search</th>\n",
       "      <td>28.11295</td>\n",
       "      <td>35.16070</td>\n",
       "      <td>36.37019</td>\n",
       "      <td>52.96610</td>\n",
       "      <td>95.57900</td>\n",
       "      <td>221.92185</td>\n",
       "    </tr>\n",
       "    <tr>\n",
       "      <th>social</th>\n",
       "      <td>31.72900</td>\n",
       "      <td>36.78344</td>\n",
       "      <td>40.35832</td>\n",
       "      <td>55.31522</td>\n",
       "      <td>74.09300</td>\n",
       "      <td>183.15353</td>\n",
       "    </tr>\n",
       "    <tr>\n",
       "      <th>tv</th>\n",
       "      <td>105.26451</td>\n",
       "      <td>52.45526</td>\n",
       "      <td>149.10676</td>\n",
       "      <td>60.54855</td>\n",
       "      <td>196.74300</td>\n",
       "      <td>20.68684</td>\n",
       "    </tr>\n",
       "  </tbody>\n",
       "</table>\n",
       "</div>"
      ],
      "text/plain": [
       "        pre-opt-avg-cost  post-opt-avg-cost  pre-opt-marginal-cost  \\\n",
       "promo           50.50007           46.40325               54.33316   \n",
       "radio           74.28564           39.98051              110.02550   \n",
       "search          28.11295           35.16070               36.37019   \n",
       "social          31.72900           36.78344               40.35832   \n",
       "tv             105.26451           52.45526              149.10676   \n",
       "\n",
       "        post-opt-marginal-cost  pre-opt-spend  post-opt-spend  \n",
       "promo                 57.49524       49.99200        93.19271  \n",
       "radio                 47.37869      129.35500        26.80708  \n",
       "search                52.96610       95.57900       221.92185  \n",
       "social                55.31522       74.09300       183.15353  \n",
       "tv                    60.54855      196.74300        20.68684  "
      ]
     },
     "execution_count": 114,
     "metadata": {},
     "output_type": "execute_result"
    }
   ],
   "source": [
    "cost_report"
   ]
  },
  {
   "cell_type": "code",
   "execution_count": 179,
   "metadata": {},
   "outputs": [
    {
     "ename": "AssertionError",
     "evalue": "",
     "output_type": "error",
     "traceback": [
      "\u001b[0;31m---------------------------------------------------------------------------\u001b[0m",
      "\u001b[0;31mAssertionError\u001b[0m                            Traceback (most recent call last)",
      "Cell \u001b[0;32mIn[179], line 1\u001b[0m\n\u001b[0;32m----> 1\u001b[0m \u001b[38;5;28;01massert\u001b[39;00m np\u001b[38;5;241m.\u001b[39mallclose(new_optim_spend_matrix, optim_spend_matrix, atol\u001b[38;5;241m=\u001b[39m\u001b[38;5;241m1e-1\u001b[39m, rtol\u001b[38;5;241m=\u001b[39m\u001b[38;5;241m1e-1\u001b[39m)\n",
      "\u001b[0;31mAssertionError\u001b[0m: "
     ]
    }
   ],
   "source": [
    "assert np.allclose(new_optim_spend_matrix, optim_spend_matrix, atol=1e-1, rtol=1e-1)"
   ]
  },
  {
   "cell_type": "code",
   "execution_count": 206,
   "metadata": {},
   "outputs": [
    {
     "data": {
      "text/plain": [
       "array([[ 1815.9961 ,  5083.80513,  5016.21069,  5988.43659,  1401.28742],\n",
       "       [ 1417.47279,    20.19917,  2086.5572 ,  2795.39508,     0.09185],\n",
       "       [    0.4516 ,  1181.21914,  2759.06116,  1856.09101,  6220.60142],\n",
       "       [ 2229.08492,   295.7384 ,  1270.38341,  6934.44696,  1746.59409],\n",
       "       [  936.92985,  1010.05598,  2092.15974,  8958.06312,   155.5137 ],\n",
       "       [ 5597.98246,   823.15538,  5632.6783 ,  5057.63769,  2728.29895],\n",
       "       [ 3872.49532,  1267.82359,  6987.62339,  5661.41011,  1770.51996],\n",
       "       [  725.4606 ,  3893.20238,  3638.44272,  2463.8922 ,  4690.94782],\n",
       "       [ 1665.49572, 11739.4963 , 11168.23222,  1697.67732, 10289.28402],\n",
       "       [  193.24392,  1629.12712,  1946.77492,  1393.42125,  2188.38038],\n",
       "       [   10.36168,     0.     ,  1230.9514 ,   568.15718,     0.     ],\n",
       "       [   83.89325,    53.73116, 12859.64527,  3541.16423,  6444.42347],\n",
       "       [ 2606.09564,  1414.7864 ,  5505.59428, 18331.56076,  3110.52193],\n",
       "       [ 2564.40131,   892.61252,  6432.08995,  5708.89033,  3954.23992],\n",
       "       [  681.43766,   400.14192, 15999.21849,  3144.54733,  2015.47159],\n",
       "       [  235.92432,  3545.14954,  2770.92956,  1828.3858 ,   161.15707],\n",
       "       [ 1473.78296,    83.53561,  2144.28745,  1324.06773,  1056.4164 ],\n",
       "       [    0.     ,   407.74024,  1365.02244,   901.58859,     0.     ],\n",
       "       [  923.4286 ,  2277.27254,  3478.73067,  2572.34309,   128.12595],\n",
       "       [ 4243.10303,  1528.68181,  7685.27715,  7797.22966,  1838.30497],\n",
       "       [ 4401.40563,  2182.97316,  8038.94779,  6085.24389,  7080.30857],\n",
       "       [ 1456.449  ,   345.19011,  5270.06286,  3532.38937,  1655.01101],\n",
       "       [  312.5613 ,   455.6218 ,  2867.50933, 10934.38725,  2403.43675],\n",
       "       [  133.42344,   830.0088 ,  2947.13807,  2493.88161,  8970.44379],\n",
       "       [ 1065.2864 ,  1711.09831,  1874.75388,  8165.96613,  9310.53998],\n",
       "       [  661.11894,  1362.95217, 12448.98047,  1852.31668,  1430.21737],\n",
       "       [ 3302.64529,  2103.89236,  7349.06585, 23393.42706,  4226.42298],\n",
       "       [ 3014.35733,  6873.62408,  6239.02785, 19480.99439,  2897.90412],\n",
       "       [ 1787.74726,  1863.71476,  4493.42426,  4063.46226,  3740.69122],\n",
       "       [    0.     ,     0.     , 12718.09646,  2905.08151,  4003.96789],\n",
       "       [  406.93329,   609.35215,  8096.20494,   592.87337,     0.4921 ]])"
      ]
     },
     "execution_count": 206,
     "metadata": {},
     "output_type": "execute_result"
    }
   ],
   "source": [
    "new_optim_spend_matrix"
   ]
  },
  {
   "cell_type": "code",
   "execution_count": 207,
   "metadata": {},
   "outputs": [
    {
     "data": {
      "text/plain": [
       "array([[ 1936.54268,  2006.54843,  4846.21522, 17158.99012,  3992.58292],\n",
       "       [  404.09251,  1778.31528,  8924.46959,  1033.00617,     4.22092],\n",
       "       [  287.7425 ,  2084.89271,  8164.12797,  1046.17782,     0.     ],\n",
       "       [  719.52849,     0.     ,  1966.004  ,  1279.26669,   245.08629],\n",
       "       [ 2602.655  ,  3185.73355,  3207.70954, 11831.28034, 10736.91044],\n",
       "       [ 3296.08775,  1900.60822,  7558.90514,  5686.70711,  3342.076  ],\n",
       "       [ 3828.01312,  1961.06815,  7179.16502,  5541.53327,  7980.98676],\n",
       "       [  163.04876,   243.1117 ,  2796.49592, 10526.62662,   187.55621],\n",
       "       [    0.     ,  3534.4617 ,  2571.65743,  1956.54211,     1.1544 ],\n",
       "       [ 2816.98138,  1391.04449,  2054.08073,  8600.70417,  3650.94968],\n",
       "       [   94.43045,   492.06909,  8166.85959,  1025.99523,  4763.49367],\n",
       "       [  315.5131 ,  3118.97378,  3070.58169,  2149.82514,     0.     ],\n",
       "       [ 2384.76496,  1136.35193,  6000.11883, 20526.18516,  4145.66013],\n",
       "       [ 7887.27831,  2381.00412,  6139.2189 ,  5045.95942,  3390.09321],\n",
       "       [  856.2649 ,   629.04965,  3715.66962,  2739.73832,  1114.61786],\n",
       "       [ 1001.22074,   716.98015, 11314.05027,  2672.27024,  7502.24001],\n",
       "       [  263.94262,  1875.20627,  3034.1015 ,  2525.13135, 10223.24928],\n",
       "       [    0.00326,   289.7118 ,  1215.09156,  5938.56167,  2199.75883],\n",
       "       [  629.75421,   244.52796,  3448.10036,  3047.84166,   300.2901 ],\n",
       "       [ 3223.52079,  2850.19082,  7044.42474,  6805.74679,  4318.24391],\n",
       "       [ 4108.7859 ,  3514.30704,  8097.63845,  6648.3384 ,  8326.34581],\n",
       "       [ 3189.56857,  1363.18984,  3559.28074,  4549.89392,  2660.91807],\n",
       "       [   60.74181,   964.45019, 12286.26976,  1947.38258,  2684.74183],\n",
       "       [  785.71847,  1187.4334 ,  1782.4514 ,  1898.02759,  1356.3094 ],\n",
       "       [   75.68299,     0.     ,  1242.01165,   615.72375,     0.     ],\n",
       "       [ 1132.89227,  1073.18179,  3544.1986 ,  2987.21141,  4698.76309],\n",
       "       [ 2512.29384,  2118.3822 ,  5275.8158 , 18773.5601 ,  2996.28309],\n",
       "       [ 3529.60022,  9173.58826,  6520.08431,  6432.6645 ,  4620.45294],\n",
       "       [ 1905.86378,   965.82525,  4783.77299,  3805.35881,  1414.30517],\n",
       "       [ 1853.46494,     4.16023, 12029.09196,  1946.84773, 11714.92508],\n",
       "       [   75.36212,     0.     ,  2578.00597,  2205.28903,     0.     ]])"
      ]
     },
     "execution_count": 207,
     "metadata": {},
     "output_type": "execute_result"
    }
   ],
   "source": [
    "optim_spend_matrix"
   ]
  },
  {
   "cell_type": "code",
   "execution_count": null,
   "metadata": {},
   "outputs": [],
   "source": []
  }
 ],
 "metadata": {
  "interpreter": {
   "hash": "e4c3ddbee9172d5d924d9319423b481e9709a3db66d191355ac8f24c8de7c580"
  },
  "kernelspec": {
   "display_name": "karpiu",
   "language": "python",
   "name": "karpiu"
  },
  "language_info": {
   "codemirror_mode": {
    "name": "ipython",
    "version": 3
   },
   "file_extension": ".py",
   "mimetype": "text/x-python",
   "name": "python",
   "nbconvert_exporter": "python",
   "pygments_lexer": "ipython3",
   "version": "3.9.0"
  }
 },
 "nbformat": 4,
 "nbformat_minor": 4
}
